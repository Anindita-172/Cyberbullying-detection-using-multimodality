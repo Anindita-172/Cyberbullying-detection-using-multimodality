{
  "cells": [
    {
      "cell_type": "markdown",
      "metadata": {
        "id": "0d08f474-701c-43cf-bbd3-31f09b0fa2ad"
      },
      "source": [
        "# PBL_II"
      ],
      "id": "0d08f474-701c-43cf-bbd3-31f09b0fa2ad"
    },
    {
      "cell_type": "markdown",
      "metadata": {
        "id": "0dff7305-efea-4a58-b318-14da4aff2688"
      },
      "source": [
        "# Cyberbullying Classification using NLP"
      ],
      "id": "0dff7305-efea-4a58-b318-14da4aff2688"
    },
    {
      "cell_type": "markdown",
      "metadata": {
        "id": "c8da7984-f86d-4faa-9699-a5a34b69ac37"
      },
      "source": [
        "#### SIDDHARTH INGLE_____ 20070122131\n",
        "#### SOUMYAROOP DAS______ 20070122138\n",
        "#### SREEMAN REPAKA______ 20070122139\n",
        "#### ANINDITA MUKHERJEE__ 20070122 "
      ],
      "id": "c8da7984-f86d-4faa-9699-a5a34b69ac37"
    },
    {
      "cell_type": "markdown",
      "metadata": {
        "id": "652c5aa7-183f-471c-8ef5-573fcb6164ba"
      },
      "source": [
        "#### This notebook contains the code for the EDA (Exploratory Data Analysis) and Data Preprocessing phase of the project mentioned above"
      ],
      "id": "652c5aa7-183f-471c-8ef5-573fcb6164ba"
    },
    {
      "cell_type": "markdown",
      "metadata": {
        "id": "ed33249a-d5ea-4e5e-ae01-593be23fa31b"
      },
      "source": [
        "## Code Outline"
      ],
      "id": "ed33249a-d5ea-4e5e-ae01-593be23fa31b"
    },
    {
      "cell_type": "markdown",
      "metadata": {
        "id": "918c8b8a-126a-4216-85af-cc6f17b2c920"
      },
      "source": [
        "#### 1.Prerequisite processes (Loading of dataset,checking dimensions of the dataset,removal of duplicates,etc.)\n",
        "#### 2.Text Cleaning\n",
        "#### 3.BERT Tokenization\n",
        "#### 4.Data Visualization"
      ],
      "id": "918c8b8a-126a-4216-85af-cc6f17b2c920"
    },
    {
      "cell_type": "markdown",
      "metadata": {
        "id": "5c484e7a-9795-43b3-bb1b-57468731f393"
      },
      "source": [
        "## .\n",
        "## .\n",
        "## .\n",
        "## ."
      ],
      "id": "5c484e7a-9795-43b3-bb1b-57468731f393"
    },
    {
      "cell_type": "markdown",
      "metadata": {
        "id": "1015fd31-519f-4f3a-8c14-338d3dbfcfc8"
      },
      "source": [
        "### I. Prerequisite Processes"
      ],
      "id": "1015fd31-519f-4f3a-8c14-338d3dbfcfc8"
    },
    {
      "cell_type": "markdown",
      "metadata": {
        "id": "27ae356e-be5d-4057-90dd-db8b4d5274d4"
      },
      "source": [
        "### Loading in Python libraries"
      ],
      "id": "27ae356e-be5d-4057-90dd-db8b4d5274d4"
    },
    {
      "cell_type": "code",
      "execution_count": null,
      "metadata": {
        "id": "d4cb5dec-a69e-4ed6-b538-2fc83028b0d5"
      },
      "outputs": [],
      "source": [
        "import numpy as np\n",
        "import pandas as pd\n",
        "import matplotlib.pyplot as plt\n",
        "import seaborn as sns\n",
        "from wordcloud import WordCloud, STOPWORDS\n",
        "import spacy\n",
        "import re\n",
        "import nltk\n",
        "import string\n",
        "import sklearn\n",
        "import tensorflow as tf\n",
        "from nltk.corpus import stopwords\n",
        "from collections import Counter\n",
        "from sklearn.feature_extraction.text import CountVectorizer\n",
        "from sklearn.feature_extraction.text import TfidfTransformer\n",
        "from sklearn.naive_bayes import MultinomialNB\n",
        "from sklearn import preprocessing\n",
        "from sklearn.model_selection import train_test_split\n",
        "from imblearn.over_sampling import RandomOverSampler\n",
        "from sklearn.ensemble import RandomForestClassifier, AdaBoostClassifier, GradientBoostingClassifier\n",
        "from sklearn.svm import SVC\n",
        "from sklearn.tree import DecisionTreeClassifier\n",
        "from xgboost import XGBClassifier\n",
        "from lightgbm import LGBMClassifier\n",
        "from sklearn.neural_network import MLPClassifier\n",
        "from sklearn.naive_bayes import MultinomialNB\n",
        "from sklearn.metrics import accuracy_score\n",
        "from sklearn.model_selection import train_test_split\n",
        "from sklearn.preprocessing import LabelEncoder\n",
        "from sklearn.metrics import classification_report\n",
        "\n"
      ],
      "id": "d4cb5dec-a69e-4ed6-b538-2fc83028b0d5"
    },
    {
      "cell_type": "code",
      "execution_count": null,
      "metadata": {
        "colab": {
          "base_uri": "https://localhost:8080/"
        },
        "id": "6ef00ad5-bfea-4cd2-a434-1ecfd6b5eb6f",
        "outputId": "bbc8b9a0-77d6-44f8-84c0-1ab976522e7a"
      },
      "outputs": [
        {
          "output_type": "stream",
          "name": "stdout",
          "text": [
            "Looking in indexes: https://pypi.org/simple, https://us-python.pkg.dev/colab-wheels/public/simple/\n",
            "Requirement already satisfied: googletrans==4.0.0-rc1 in /usr/local/lib/python3.9/dist-packages (4.0.0rc1)\n",
            "Requirement already satisfied: httpx==0.13.3 in /usr/local/lib/python3.9/dist-packages (from googletrans==4.0.0-rc1) (0.13.3)\n",
            "Requirement already satisfied: hstspreload in /usr/local/lib/python3.9/dist-packages (from httpx==0.13.3->googletrans==4.0.0-rc1) (2023.1.1)\n",
            "Requirement already satisfied: chardet==3.* in /usr/lib/python3/dist-packages (from httpx==0.13.3->googletrans==4.0.0-rc1) (3.0.4)\n",
            "Requirement already satisfied: sniffio in /usr/local/lib/python3.9/dist-packages (from httpx==0.13.3->googletrans==4.0.0-rc1) (1.3.0)\n",
            "Requirement already satisfied: rfc3986<2,>=1.3 in /usr/local/lib/python3.9/dist-packages (from httpx==0.13.3->googletrans==4.0.0-rc1) (1.5.0)\n",
            "Requirement already satisfied: idna==2.* in /usr/local/lib/python3.9/dist-packages (from httpx==0.13.3->googletrans==4.0.0-rc1) (2.10)\n",
            "Requirement already satisfied: certifi in /usr/local/lib/python3.9/dist-packages (from httpx==0.13.3->googletrans==4.0.0-rc1) (2022.12.7)\n",
            "Requirement already satisfied: httpcore==0.9.* in /usr/local/lib/python3.9/dist-packages (from httpx==0.13.3->googletrans==4.0.0-rc1) (0.9.1)\n",
            "Requirement already satisfied: h2==3.* in /usr/local/lib/python3.9/dist-packages (from httpcore==0.9.*->httpx==0.13.3->googletrans==4.0.0-rc1) (3.2.0)\n",
            "Requirement already satisfied: h11<0.10,>=0.8 in /usr/local/lib/python3.9/dist-packages (from httpcore==0.9.*->httpx==0.13.3->googletrans==4.0.0-rc1) (0.9.0)\n",
            "Requirement already satisfied: hpack<4,>=3.0 in /usr/local/lib/python3.9/dist-packages (from h2==3.*->httpcore==0.9.*->httpx==0.13.3->googletrans==4.0.0-rc1) (3.0.0)\n",
            "Requirement already satisfied: hyperframe<6,>=5.2.0 in /usr/local/lib/python3.9/dist-packages (from h2==3.*->httpcore==0.9.*->httpx==0.13.3->googletrans==4.0.0-rc1) (5.2.0)\n"
          ]
        }
      ],
      "source": [
        "#!pip install googletrans==4.0.0-rc1"
      ],
      "id": "6ef00ad5-bfea-4cd2-a434-1ecfd6b5eb6f"
    },
    {
      "cell_type": "code",
      "execution_count": null,
      "metadata": {
        "colab": {
          "base_uri": "https://localhost:8080/"
        },
        "id": "733664eb-1f58-456f-a79e-47523f52b5a7",
        "outputId": "b2617864-e006-43d0-8c95-d7ea176f9043"
      },
      "outputs": [
        {
          "output_type": "stream",
          "name": "stdout",
          "text": [
            "Looking in indexes: https://pypi.org/simple, https://us-python.pkg.dev/colab-wheels/public/simple/\n",
            "Requirement already satisfied: tweet-preprocessor in /usr/local/lib/python3.9/dist-packages (0.6.0)\n"
          ]
        }
      ],
      "source": [
        "!pip install tweet-preprocessor"
      ],
      "id": "733664eb-1f58-456f-a79e-47523f52b5a7"
    },
    {
      "cell_type": "code",
      "execution_count": null,
      "metadata": {
        "colab": {
          "base_uri": "https://localhost:8080/"
        },
        "id": "4f051f6b-b0d1-4454-a0a7-0a788019241d",
        "outputId": "7ddcb803-126c-4691-a2e8-7aaffa8b006b"
      },
      "outputs": [
        {
          "output_type": "stream",
          "name": "stdout",
          "text": [
            "Looking in indexes: https://pypi.org/simple, https://us-python.pkg.dev/colab-wheels/public/simple/\n",
            "Requirement already satisfied: wordcloud in /usr/local/lib/python3.9/dist-packages (1.8.2.2)\n",
            "Requirement already satisfied: pillow in /usr/local/lib/python3.9/dist-packages (from wordcloud) (8.4.0)\n",
            "Requirement already satisfied: matplotlib in /usr/local/lib/python3.9/dist-packages (from wordcloud) (3.7.1)\n",
            "Requirement already satisfied: numpy>=1.6.1 in /usr/local/lib/python3.9/dist-packages (from wordcloud) (1.22.4)\n",
            "Requirement already satisfied: importlib-resources>=3.2.0 in /usr/local/lib/python3.9/dist-packages (from matplotlib->wordcloud) (5.12.0)\n",
            "Requirement already satisfied: cycler>=0.10 in /usr/local/lib/python3.9/dist-packages (from matplotlib->wordcloud) (0.11.0)\n",
            "Requirement already satisfied: pyparsing>=2.3.1 in /usr/local/lib/python3.9/dist-packages (from matplotlib->wordcloud) (3.0.9)\n",
            "Requirement already satisfied: python-dateutil>=2.7 in /usr/local/lib/python3.9/dist-packages (from matplotlib->wordcloud) (2.8.2)\n",
            "Requirement already satisfied: contourpy>=1.0.1 in /usr/local/lib/python3.9/dist-packages (from matplotlib->wordcloud) (1.0.7)\n",
            "Requirement already satisfied: kiwisolver>=1.0.1 in /usr/local/lib/python3.9/dist-packages (from matplotlib->wordcloud) (1.4.4)\n",
            "Requirement already satisfied: fonttools>=4.22.0 in /usr/local/lib/python3.9/dist-packages (from matplotlib->wordcloud) (4.39.2)\n",
            "Requirement already satisfied: packaging>=20.0 in /usr/local/lib/python3.9/dist-packages (from matplotlib->wordcloud) (23.0)\n",
            "Requirement already satisfied: zipp>=3.1.0 in /usr/local/lib/python3.9/dist-packages (from importlib-resources>=3.2.0->matplotlib->wordcloud) (3.15.0)\n",
            "Requirement already satisfied: six>=1.5 in /usr/local/lib/python3.9/dist-packages (from python-dateutil>=2.7->matplotlib->wordcloud) (1.16.0)\n"
          ]
        }
      ],
      "source": [
        "!pip install wordcloud"
      ],
      "id": "4f051f6b-b0d1-4454-a0a7-0a788019241d"
    },
    {
      "cell_type": "markdown",
      "metadata": {
        "id": "8be2eb69-2505-47da-af3d-b1c0ae2e5553"
      },
      "source": [
        "### Loading in the Dataset"
      ],
      "id": "8be2eb69-2505-47da-af3d-b1c0ae2e5553"
    },
    {
      "cell_type": "code",
      "execution_count": null,
      "metadata": {
        "id": "39aa1088-2dde-446c-ae6b-46f232fee6ff"
      },
      "outputs": [],
      "source": [
        "rd=pd.read_csv(\"/content/cyberbullying_tweets.csv\",encoding='latin1')"
      ],
      "id": "39aa1088-2dde-446c-ae6b-46f232fee6ff"
    },
    {
      "cell_type": "code",
      "execution_count": null,
      "metadata": {
        "colab": {
          "base_uri": "https://localhost:8080/",
          "height": 424
        },
        "id": "da71ff42-d9da-40a9-9ad2-e57c76b28bdb",
        "outputId": "036e0482-40d1-4d55-ba96-14d385817ade"
      },
      "outputs": [
        {
          "output_type": "execute_result",
          "data": {
            "text/plain": [
              "                                              tweet_text    type\n",
              "0      In other words #katandandre, your food was cra...    none\n",
              "1      Why is #aussietv so white? #MKR #theblock #ImA...    none\n",
              "2      @XochitlSuckkks a classy whore? Or more red ve...    none\n",
              "3      @Jason_Gio meh. :P  thanks for the heads up, b...    none\n",
              "4      @RudhoeEnglish This is an ISIS account pretend...    none\n",
              "...                                                  ...     ...\n",
              "47687  Black ppl aren't expected to do anything, depe...  racism\n",
              "47688  Turner did not withhold his disappointment. Tu...  racism\n",
              "47689  I swear to God. This dumb nigger bitch. I have...  racism\n",
              "47690  Yea fuck you RT @therealexel: IF YOURE A NIGGE...  racism\n",
              "47691  Bro. U gotta chill RT @CHILLShrammy: Dog FUCK ...  racism\n",
              "\n",
              "[47692 rows x 2 columns]"
            ],
            "text/html": [
              "\n",
              "  <div id=\"df-ae6cdacd-a60f-4533-aab1-c701e2692ffd\">\n",
              "    <div class=\"colab-df-container\">\n",
              "      <div>\n",
              "<style scoped>\n",
              "    .dataframe tbody tr th:only-of-type {\n",
              "        vertical-align: middle;\n",
              "    }\n",
              "\n",
              "    .dataframe tbody tr th {\n",
              "        vertical-align: top;\n",
              "    }\n",
              "\n",
              "    .dataframe thead th {\n",
              "        text-align: right;\n",
              "    }\n",
              "</style>\n",
              "<table border=\"1\" class=\"dataframe\">\n",
              "  <thead>\n",
              "    <tr style=\"text-align: right;\">\n",
              "      <th></th>\n",
              "      <th>tweet_text</th>\n",
              "      <th>type</th>\n",
              "    </tr>\n",
              "  </thead>\n",
              "  <tbody>\n",
              "    <tr>\n",
              "      <th>0</th>\n",
              "      <td>In other words #katandandre, your food was cra...</td>\n",
              "      <td>none</td>\n",
              "    </tr>\n",
              "    <tr>\n",
              "      <th>1</th>\n",
              "      <td>Why is #aussietv so white? #MKR #theblock #ImA...</td>\n",
              "      <td>none</td>\n",
              "    </tr>\n",
              "    <tr>\n",
              "      <th>2</th>\n",
              "      <td>@XochitlSuckkks a classy whore? Or more red ve...</td>\n",
              "      <td>none</td>\n",
              "    </tr>\n",
              "    <tr>\n",
              "      <th>3</th>\n",
              "      <td>@Jason_Gio meh. :P  thanks for the heads up, b...</td>\n",
              "      <td>none</td>\n",
              "    </tr>\n",
              "    <tr>\n",
              "      <th>4</th>\n",
              "      <td>@RudhoeEnglish This is an ISIS account pretend...</td>\n",
              "      <td>none</td>\n",
              "    </tr>\n",
              "    <tr>\n",
              "      <th>...</th>\n",
              "      <td>...</td>\n",
              "      <td>...</td>\n",
              "    </tr>\n",
              "    <tr>\n",
              "      <th>47687</th>\n",
              "      <td>Black ppl aren't expected to do anything, depe...</td>\n",
              "      <td>racism</td>\n",
              "    </tr>\n",
              "    <tr>\n",
              "      <th>47688</th>\n",
              "      <td>Turner did not withhold his disappointment. Tu...</td>\n",
              "      <td>racism</td>\n",
              "    </tr>\n",
              "    <tr>\n",
              "      <th>47689</th>\n",
              "      <td>I swear to God. This dumb nigger bitch. I have...</td>\n",
              "      <td>racism</td>\n",
              "    </tr>\n",
              "    <tr>\n",
              "      <th>47690</th>\n",
              "      <td>Yea fuck you RT @therealexel: IF YOURE A NIGGE...</td>\n",
              "      <td>racism</td>\n",
              "    </tr>\n",
              "    <tr>\n",
              "      <th>47691</th>\n",
              "      <td>Bro. U gotta chill RT @CHILLShrammy: Dog FUCK ...</td>\n",
              "      <td>racism</td>\n",
              "    </tr>\n",
              "  </tbody>\n",
              "</table>\n",
              "<p>47692 rows × 2 columns</p>\n",
              "</div>\n",
              "      <button class=\"colab-df-convert\" onclick=\"convertToInteractive('df-ae6cdacd-a60f-4533-aab1-c701e2692ffd')\"\n",
              "              title=\"Convert this dataframe to an interactive table.\"\n",
              "              style=\"display:none;\">\n",
              "        \n",
              "  <svg xmlns=\"http://www.w3.org/2000/svg\" height=\"24px\"viewBox=\"0 0 24 24\"\n",
              "       width=\"24px\">\n",
              "    <path d=\"M0 0h24v24H0V0z\" fill=\"none\"/>\n",
              "    <path d=\"M18.56 5.44l.94 2.06.94-2.06 2.06-.94-2.06-.94-.94-2.06-.94 2.06-2.06.94zm-11 1L8.5 8.5l.94-2.06 2.06-.94-2.06-.94L8.5 2.5l-.94 2.06-2.06.94zm10 10l.94 2.06.94-2.06 2.06-.94-2.06-.94-.94-2.06-.94 2.06-2.06.94z\"/><path d=\"M17.41 7.96l-1.37-1.37c-.4-.4-.92-.59-1.43-.59-.52 0-1.04.2-1.43.59L10.3 9.45l-7.72 7.72c-.78.78-.78 2.05 0 2.83L4 21.41c.39.39.9.59 1.41.59.51 0 1.02-.2 1.41-.59l7.78-7.78 2.81-2.81c.8-.78.8-2.07 0-2.86zM5.41 20L4 18.59l7.72-7.72 1.47 1.35L5.41 20z\"/>\n",
              "  </svg>\n",
              "      </button>\n",
              "      \n",
              "  <style>\n",
              "    .colab-df-container {\n",
              "      display:flex;\n",
              "      flex-wrap:wrap;\n",
              "      gap: 12px;\n",
              "    }\n",
              "\n",
              "    .colab-df-convert {\n",
              "      background-color: #E8F0FE;\n",
              "      border: none;\n",
              "      border-radius: 50%;\n",
              "      cursor: pointer;\n",
              "      display: none;\n",
              "      fill: #1967D2;\n",
              "      height: 32px;\n",
              "      padding: 0 0 0 0;\n",
              "      width: 32px;\n",
              "    }\n",
              "\n",
              "    .colab-df-convert:hover {\n",
              "      background-color: #E2EBFA;\n",
              "      box-shadow: 0px 1px 2px rgba(60, 64, 67, 0.3), 0px 1px 3px 1px rgba(60, 64, 67, 0.15);\n",
              "      fill: #174EA6;\n",
              "    }\n",
              "\n",
              "    [theme=dark] .colab-df-convert {\n",
              "      background-color: #3B4455;\n",
              "      fill: #D2E3FC;\n",
              "    }\n",
              "\n",
              "    [theme=dark] .colab-df-convert:hover {\n",
              "      background-color: #434B5C;\n",
              "      box-shadow: 0px 1px 3px 1px rgba(0, 0, 0, 0.15);\n",
              "      filter: drop-shadow(0px 1px 2px rgba(0, 0, 0, 0.3));\n",
              "      fill: #FFFFFF;\n",
              "    }\n",
              "  </style>\n",
              "\n",
              "      <script>\n",
              "        const buttonEl =\n",
              "          document.querySelector('#df-ae6cdacd-a60f-4533-aab1-c701e2692ffd button.colab-df-convert');\n",
              "        buttonEl.style.display =\n",
              "          google.colab.kernel.accessAllowed ? 'block' : 'none';\n",
              "\n",
              "        async function convertToInteractive(key) {\n",
              "          const element = document.querySelector('#df-ae6cdacd-a60f-4533-aab1-c701e2692ffd');\n",
              "          const dataTable =\n",
              "            await google.colab.kernel.invokeFunction('convertToInteractive',\n",
              "                                                     [key], {});\n",
              "          if (!dataTable) return;\n",
              "\n",
              "          const docLinkHtml = 'Like what you see? Visit the ' +\n",
              "            '<a target=\"_blank\" href=https://colab.research.google.com/notebooks/data_table.ipynb>data table notebook</a>'\n",
              "            + ' to learn more about interactive tables.';\n",
              "          element.innerHTML = '';\n",
              "          dataTable['output_type'] = 'display_data';\n",
              "          await google.colab.output.renderOutput(dataTable, element);\n",
              "          const docLink = document.createElement('div');\n",
              "          docLink.innerHTML = docLinkHtml;\n",
              "          element.appendChild(docLink);\n",
              "        }\n",
              "      </script>\n",
              "    </div>\n",
              "  </div>\n",
              "  "
            ]
          },
          "metadata": {},
          "execution_count": 11
        }
      ],
      "source": [
        "rd"
      ],
      "id": "da71ff42-d9da-40a9-9ad2-e57c76b28bdb"
    },
    {
      "cell_type": "code",
      "execution_count": null,
      "metadata": {
        "colab": {
          "base_uri": "https://localhost:8080/",
          "height": 426
        },
        "id": "dab98980-d991-40a2-83b5-60895aaaa410",
        "outputId": "ac55f62e-adf5-4af4-bee2-15bbd44724ec"
      },
      "outputs": [
        {
          "output_type": "execute_result",
          "data": {
            "text/plain": [
              "                                           tweet_text      type\n",
              "0   In other words #katandandre, your food was cra...      none\n",
              "1   Why is #aussietv so white? #MKR #theblock #ImA...      none\n",
              "2   rape is real..zvasiyana nema jokes about being...    sexism\n",
              "3   You never saw any celebrity say anything like ...    sexism\n",
              "4   Sudeep, did she invite him though? No right? W...  religion\n",
              "5   @discerningmumin Islam has never been a resist...  religion\n",
              "6   @ikralla fyi, it looks like I was caught by it...     other\n",
              "7   I need to just switch to an organization-based...     other\n",
              "8   Here at home. Neighbors pick on my family and ...       age\n",
              "9   Being bullied at school: High-achieving boys u...       age\n",
              "10  Hey dumb fuck celebs stop doing something for ...    racism\n",
              "11  Fuck u bitch RT @tayyoung_: FUCK OBAMA, dumb a...    racism"
            ],
            "text/html": [
              "\n",
              "  <div id=\"df-c2660ef1-470d-4798-bcff-1a65dfb02253\">\n",
              "    <div class=\"colab-df-container\">\n",
              "      <div>\n",
              "<style scoped>\n",
              "    .dataframe tbody tr th:only-of-type {\n",
              "        vertical-align: middle;\n",
              "    }\n",
              "\n",
              "    .dataframe tbody tr th {\n",
              "        vertical-align: top;\n",
              "    }\n",
              "\n",
              "    .dataframe thead th {\n",
              "        text-align: right;\n",
              "    }\n",
              "</style>\n",
              "<table border=\"1\" class=\"dataframe\">\n",
              "  <thead>\n",
              "    <tr style=\"text-align: right;\">\n",
              "      <th></th>\n",
              "      <th>tweet_text</th>\n",
              "      <th>type</th>\n",
              "    </tr>\n",
              "  </thead>\n",
              "  <tbody>\n",
              "    <tr>\n",
              "      <th>0</th>\n",
              "      <td>In other words #katandandre, your food was cra...</td>\n",
              "      <td>none</td>\n",
              "    </tr>\n",
              "    <tr>\n",
              "      <th>1</th>\n",
              "      <td>Why is #aussietv so white? #MKR #theblock #ImA...</td>\n",
              "      <td>none</td>\n",
              "    </tr>\n",
              "    <tr>\n",
              "      <th>2</th>\n",
              "      <td>rape is real..zvasiyana nema jokes about being...</td>\n",
              "      <td>sexism</td>\n",
              "    </tr>\n",
              "    <tr>\n",
              "      <th>3</th>\n",
              "      <td>You never saw any celebrity say anything like ...</td>\n",
              "      <td>sexism</td>\n",
              "    </tr>\n",
              "    <tr>\n",
              "      <th>4</th>\n",
              "      <td>Sudeep, did she invite him though? No right? W...</td>\n",
              "      <td>religion</td>\n",
              "    </tr>\n",
              "    <tr>\n",
              "      <th>5</th>\n",
              "      <td>@discerningmumin Islam has never been a resist...</td>\n",
              "      <td>religion</td>\n",
              "    </tr>\n",
              "    <tr>\n",
              "      <th>6</th>\n",
              "      <td>@ikralla fyi, it looks like I was caught by it...</td>\n",
              "      <td>other</td>\n",
              "    </tr>\n",
              "    <tr>\n",
              "      <th>7</th>\n",
              "      <td>I need to just switch to an organization-based...</td>\n",
              "      <td>other</td>\n",
              "    </tr>\n",
              "    <tr>\n",
              "      <th>8</th>\n",
              "      <td>Here at home. Neighbors pick on my family and ...</td>\n",
              "      <td>age</td>\n",
              "    </tr>\n",
              "    <tr>\n",
              "      <th>9</th>\n",
              "      <td>Being bullied at school: High-achieving boys u...</td>\n",
              "      <td>age</td>\n",
              "    </tr>\n",
              "    <tr>\n",
              "      <th>10</th>\n",
              "      <td>Hey dumb fuck celebs stop doing something for ...</td>\n",
              "      <td>racism</td>\n",
              "    </tr>\n",
              "    <tr>\n",
              "      <th>11</th>\n",
              "      <td>Fuck u bitch RT @tayyoung_: FUCK OBAMA, dumb a...</td>\n",
              "      <td>racism</td>\n",
              "    </tr>\n",
              "  </tbody>\n",
              "</table>\n",
              "</div>\n",
              "      <button class=\"colab-df-convert\" onclick=\"convertToInteractive('df-c2660ef1-470d-4798-bcff-1a65dfb02253')\"\n",
              "              title=\"Convert this dataframe to an interactive table.\"\n",
              "              style=\"display:none;\">\n",
              "        \n",
              "  <svg xmlns=\"http://www.w3.org/2000/svg\" height=\"24px\"viewBox=\"0 0 24 24\"\n",
              "       width=\"24px\">\n",
              "    <path d=\"M0 0h24v24H0V0z\" fill=\"none\"/>\n",
              "    <path d=\"M18.56 5.44l.94 2.06.94-2.06 2.06-.94-2.06-.94-.94-2.06-.94 2.06-2.06.94zm-11 1L8.5 8.5l.94-2.06 2.06-.94-2.06-.94L8.5 2.5l-.94 2.06-2.06.94zm10 10l.94 2.06.94-2.06 2.06-.94-2.06-.94-.94-2.06-.94 2.06-2.06.94z\"/><path d=\"M17.41 7.96l-1.37-1.37c-.4-.4-.92-.59-1.43-.59-.52 0-1.04.2-1.43.59L10.3 9.45l-7.72 7.72c-.78.78-.78 2.05 0 2.83L4 21.41c.39.39.9.59 1.41.59.51 0 1.02-.2 1.41-.59l7.78-7.78 2.81-2.81c.8-.78.8-2.07 0-2.86zM5.41 20L4 18.59l7.72-7.72 1.47 1.35L5.41 20z\"/>\n",
              "  </svg>\n",
              "      </button>\n",
              "      \n",
              "  <style>\n",
              "    .colab-df-container {\n",
              "      display:flex;\n",
              "      flex-wrap:wrap;\n",
              "      gap: 12px;\n",
              "    }\n",
              "\n",
              "    .colab-df-convert {\n",
              "      background-color: #E8F0FE;\n",
              "      border: none;\n",
              "      border-radius: 50%;\n",
              "      cursor: pointer;\n",
              "      display: none;\n",
              "      fill: #1967D2;\n",
              "      height: 32px;\n",
              "      padding: 0 0 0 0;\n",
              "      width: 32px;\n",
              "    }\n",
              "\n",
              "    .colab-df-convert:hover {\n",
              "      background-color: #E2EBFA;\n",
              "      box-shadow: 0px 1px 2px rgba(60, 64, 67, 0.3), 0px 1px 3px 1px rgba(60, 64, 67, 0.15);\n",
              "      fill: #174EA6;\n",
              "    }\n",
              "\n",
              "    [theme=dark] .colab-df-convert {\n",
              "      background-color: #3B4455;\n",
              "      fill: #D2E3FC;\n",
              "    }\n",
              "\n",
              "    [theme=dark] .colab-df-convert:hover {\n",
              "      background-color: #434B5C;\n",
              "      box-shadow: 0px 1px 3px 1px rgba(0, 0, 0, 0.15);\n",
              "      filter: drop-shadow(0px 1px 2px rgba(0, 0, 0, 0.3));\n",
              "      fill: #FFFFFF;\n",
              "    }\n",
              "  </style>\n",
              "\n",
              "      <script>\n",
              "        const buttonEl =\n",
              "          document.querySelector('#df-c2660ef1-470d-4798-bcff-1a65dfb02253 button.colab-df-convert');\n",
              "        buttonEl.style.display =\n",
              "          google.colab.kernel.accessAllowed ? 'block' : 'none';\n",
              "\n",
              "        async function convertToInteractive(key) {\n",
              "          const element = document.querySelector('#df-c2660ef1-470d-4798-bcff-1a65dfb02253');\n",
              "          const dataTable =\n",
              "            await google.colab.kernel.invokeFunction('convertToInteractive',\n",
              "                                                     [key], {});\n",
              "          if (!dataTable) return;\n",
              "\n",
              "          const docLinkHtml = 'Like what you see? Visit the ' +\n",
              "            '<a target=\"_blank\" href=https://colab.research.google.com/notebooks/data_table.ipynb>data table notebook</a>'\n",
              "            + ' to learn more about interactive tables.';\n",
              "          element.innerHTML = '';\n",
              "          dataTable['output_type'] = 'display_data';\n",
              "          await google.colab.output.renderOutput(dataTable, element);\n",
              "          const docLink = document.createElement('div');\n",
              "          docLink.innerHTML = docLinkHtml;\n",
              "          element.appendChild(docLink);\n",
              "        }\n",
              "      </script>\n",
              "    </div>\n",
              "  </div>\n",
              "  "
            ]
          },
          "metadata": {},
          "execution_count": 12
        }
      ],
      "source": [
        "rd.groupby('type').head(2).reset_index(drop=True)"
      ],
      "id": "dab98980-d991-40a2-83b5-60895aaaa410"
    },
    {
      "cell_type": "code",
      "execution_count": null,
      "metadata": {
        "colab": {
          "base_uri": "https://localhost:8080/"
        },
        "id": "3dd9bd9e-276c-4d25-950d-9ae2bff93ce0",
        "outputId": "2f1c53b4-21dc-4f9a-bc3d-d97ecf9a742f"
      },
      "outputs": [
        {
          "output_type": "execute_result",
          "data": {
            "text/plain": [
              "<bound method NDFrame.head of                                               tweet_text    type\n",
              "0      In other words #katandandre, your food was cra...    none\n",
              "1      Why is #aussietv so white? #MKR #theblock #ImA...    none\n",
              "2      @XochitlSuckkks a classy whore? Or more red ve...    none\n",
              "3      @Jason_Gio meh. :P  thanks for the heads up, b...    none\n",
              "4      @RudhoeEnglish This is an ISIS account pretend...    none\n",
              "...                                                  ...     ...\n",
              "47687  Black ppl aren't expected to do anything, depe...  racism\n",
              "47688  Turner did not withhold his disappointment. Tu...  racism\n",
              "47689  I swear to God. This dumb nigger bitch. I have...  racism\n",
              "47690  Yea fuck you RT @therealexel: IF YOURE A NIGGE...  racism\n",
              "47691  Bro. U gotta chill RT @CHILLShrammy: Dog FUCK ...  racism\n",
              "\n",
              "[47692 rows x 2 columns]>"
            ]
          },
          "metadata": {},
          "execution_count": 13
        }
      ],
      "source": [
        "rd.head"
      ],
      "id": "3dd9bd9e-276c-4d25-950d-9ae2bff93ce0"
    },
    {
      "cell_type": "code",
      "execution_count": null,
      "metadata": {
        "colab": {
          "base_uri": "https://localhost:8080/",
          "height": 175
        },
        "id": "5cd0f952-82c0-4286-8db3-f64d17d0b1c0",
        "outputId": "6030fe69-bc79-4300-d789-229339320726"
      },
      "outputs": [
        {
          "output_type": "execute_result",
          "data": {
            "text/plain": [
              "       tweet_text      type\n",
              "count       47692     47692\n",
              "unique      46004         6\n",
              "top        #NAME?  religion\n",
              "freq           14      7998"
            ],
            "text/html": [
              "\n",
              "  <div id=\"df-e118c434-7ebc-4d77-98a4-3e51a43082e5\">\n",
              "    <div class=\"colab-df-container\">\n",
              "      <div>\n",
              "<style scoped>\n",
              "    .dataframe tbody tr th:only-of-type {\n",
              "        vertical-align: middle;\n",
              "    }\n",
              "\n",
              "    .dataframe tbody tr th {\n",
              "        vertical-align: top;\n",
              "    }\n",
              "\n",
              "    .dataframe thead th {\n",
              "        text-align: right;\n",
              "    }\n",
              "</style>\n",
              "<table border=\"1\" class=\"dataframe\">\n",
              "  <thead>\n",
              "    <tr style=\"text-align: right;\">\n",
              "      <th></th>\n",
              "      <th>tweet_text</th>\n",
              "      <th>type</th>\n",
              "    </tr>\n",
              "  </thead>\n",
              "  <tbody>\n",
              "    <tr>\n",
              "      <th>count</th>\n",
              "      <td>47692</td>\n",
              "      <td>47692</td>\n",
              "    </tr>\n",
              "    <tr>\n",
              "      <th>unique</th>\n",
              "      <td>46004</td>\n",
              "      <td>6</td>\n",
              "    </tr>\n",
              "    <tr>\n",
              "      <th>top</th>\n",
              "      <td>#NAME?</td>\n",
              "      <td>religion</td>\n",
              "    </tr>\n",
              "    <tr>\n",
              "      <th>freq</th>\n",
              "      <td>14</td>\n",
              "      <td>7998</td>\n",
              "    </tr>\n",
              "  </tbody>\n",
              "</table>\n",
              "</div>\n",
              "      <button class=\"colab-df-convert\" onclick=\"convertToInteractive('df-e118c434-7ebc-4d77-98a4-3e51a43082e5')\"\n",
              "              title=\"Convert this dataframe to an interactive table.\"\n",
              "              style=\"display:none;\">\n",
              "        \n",
              "  <svg xmlns=\"http://www.w3.org/2000/svg\" height=\"24px\"viewBox=\"0 0 24 24\"\n",
              "       width=\"24px\">\n",
              "    <path d=\"M0 0h24v24H0V0z\" fill=\"none\"/>\n",
              "    <path d=\"M18.56 5.44l.94 2.06.94-2.06 2.06-.94-2.06-.94-.94-2.06-.94 2.06-2.06.94zm-11 1L8.5 8.5l.94-2.06 2.06-.94-2.06-.94L8.5 2.5l-.94 2.06-2.06.94zm10 10l.94 2.06.94-2.06 2.06-.94-2.06-.94-.94-2.06-.94 2.06-2.06.94z\"/><path d=\"M17.41 7.96l-1.37-1.37c-.4-.4-.92-.59-1.43-.59-.52 0-1.04.2-1.43.59L10.3 9.45l-7.72 7.72c-.78.78-.78 2.05 0 2.83L4 21.41c.39.39.9.59 1.41.59.51 0 1.02-.2 1.41-.59l7.78-7.78 2.81-2.81c.8-.78.8-2.07 0-2.86zM5.41 20L4 18.59l7.72-7.72 1.47 1.35L5.41 20z\"/>\n",
              "  </svg>\n",
              "      </button>\n",
              "      \n",
              "  <style>\n",
              "    .colab-df-container {\n",
              "      display:flex;\n",
              "      flex-wrap:wrap;\n",
              "      gap: 12px;\n",
              "    }\n",
              "\n",
              "    .colab-df-convert {\n",
              "      background-color: #E8F0FE;\n",
              "      border: none;\n",
              "      border-radius: 50%;\n",
              "      cursor: pointer;\n",
              "      display: none;\n",
              "      fill: #1967D2;\n",
              "      height: 32px;\n",
              "      padding: 0 0 0 0;\n",
              "      width: 32px;\n",
              "    }\n",
              "\n",
              "    .colab-df-convert:hover {\n",
              "      background-color: #E2EBFA;\n",
              "      box-shadow: 0px 1px 2px rgba(60, 64, 67, 0.3), 0px 1px 3px 1px rgba(60, 64, 67, 0.15);\n",
              "      fill: #174EA6;\n",
              "    }\n",
              "\n",
              "    [theme=dark] .colab-df-convert {\n",
              "      background-color: #3B4455;\n",
              "      fill: #D2E3FC;\n",
              "    }\n",
              "\n",
              "    [theme=dark] .colab-df-convert:hover {\n",
              "      background-color: #434B5C;\n",
              "      box-shadow: 0px 1px 3px 1px rgba(0, 0, 0, 0.15);\n",
              "      filter: drop-shadow(0px 1px 2px rgba(0, 0, 0, 0.3));\n",
              "      fill: #FFFFFF;\n",
              "    }\n",
              "  </style>\n",
              "\n",
              "      <script>\n",
              "        const buttonEl =\n",
              "          document.querySelector('#df-e118c434-7ebc-4d77-98a4-3e51a43082e5 button.colab-df-convert');\n",
              "        buttonEl.style.display =\n",
              "          google.colab.kernel.accessAllowed ? 'block' : 'none';\n",
              "\n",
              "        async function convertToInteractive(key) {\n",
              "          const element = document.querySelector('#df-e118c434-7ebc-4d77-98a4-3e51a43082e5');\n",
              "          const dataTable =\n",
              "            await google.colab.kernel.invokeFunction('convertToInteractive',\n",
              "                                                     [key], {});\n",
              "          if (!dataTable) return;\n",
              "\n",
              "          const docLinkHtml = 'Like what you see? Visit the ' +\n",
              "            '<a target=\"_blank\" href=https://colab.research.google.com/notebooks/data_table.ipynb>data table notebook</a>'\n",
              "            + ' to learn more about interactive tables.';\n",
              "          element.innerHTML = '';\n",
              "          dataTable['output_type'] = 'display_data';\n",
              "          await google.colab.output.renderOutput(dataTable, element);\n",
              "          const docLink = document.createElement('div');\n",
              "          docLink.innerHTML = docLinkHtml;\n",
              "          element.appendChild(docLink);\n",
              "        }\n",
              "      </script>\n",
              "    </div>\n",
              "  </div>\n",
              "  "
            ]
          },
          "metadata": {},
          "execution_count": 14
        }
      ],
      "source": [
        "rd.describe()"
      ],
      "id": "5cd0f952-82c0-4286-8db3-f64d17d0b1c0"
    },
    {
      "cell_type": "code",
      "execution_count": null,
      "metadata": {
        "colab": {
          "base_uri": "https://localhost:8080/"
        },
        "id": "26146788-88c8-46af-ad73-4ec44d942fc1",
        "outputId": "f72d7576-e1f3-4697-f56e-3d0988f92556"
      },
      "outputs": [
        {
          "output_type": "execute_result",
          "data": {
            "text/plain": [
              "(47692, 2)"
            ]
          },
          "metadata": {},
          "execution_count": 15
        }
      ],
      "source": [
        "rd.shape"
      ],
      "id": "26146788-88c8-46af-ad73-4ec44d942fc1"
    },
    {
      "cell_type": "markdown",
      "metadata": {
        "id": "5fb8a9b7-0eae-454c-ad68-acfb2f525295"
      },
      "source": [
        "#### Checking for Duplicated Tweets"
      ],
      "id": "5fb8a9b7-0eae-454c-ad68-acfb2f525295"
    },
    {
      "cell_type": "code",
      "execution_count": null,
      "metadata": {
        "colab": {
          "base_uri": "https://localhost:8080/"
        },
        "id": "f51ce3a2-f26c-400f-a246-0f9570207ecd",
        "outputId": "8bf6ff09-95e2-45ed-a7df-0b021c877700"
      },
      "outputs": [
        {
          "output_type": "execute_result",
          "data": {
            "text/plain": [
              "1688"
            ]
          },
          "metadata": {},
          "execution_count": 16
        }
      ],
      "source": [
        "rd.duplicated(\"tweet_text\").sum()"
      ],
      "id": "f51ce3a2-f26c-400f-a246-0f9570207ecd"
    },
    {
      "cell_type": "markdown",
      "metadata": {
        "id": "31546953-9e56-4ad5-af38-d65dfe710399"
      },
      "source": [
        "#### Removing Duplicated Tweets"
      ],
      "id": "31546953-9e56-4ad5-af38-d65dfe710399"
    },
    {
      "cell_type": "code",
      "execution_count": null,
      "metadata": {
        "id": "04da87c9-dc0b-4e5d-b8da-b090e045fab1"
      },
      "outputs": [],
      "source": [
        "rd.drop_duplicates(\"tweet_text\", inplace=True)"
      ],
      "id": "04da87c9-dc0b-4e5d-b8da-b090e045fab1"
    },
    {
      "cell_type": "code",
      "execution_count": null,
      "metadata": {
        "colab": {
          "base_uri": "https://localhost:8080/"
        },
        "id": "9b9369a8-a177-4422-91cf-af415fc091dd",
        "outputId": "bb260801-4ea3-4d64-87a6-fb0ee08372f8"
      },
      "outputs": [
        {
          "output_type": "execute_result",
          "data": {
            "text/plain": [
              "0"
            ]
          },
          "metadata": {},
          "execution_count": 18
        }
      ],
      "source": [
        "rd.duplicated(\"tweet_text\").sum()"
      ],
      "id": "9b9369a8-a177-4422-91cf-af415fc091dd"
    },
    {
      "cell_type": "markdown",
      "metadata": {
        "id": "a47fe035-70d3-4f52-843c-4671ed3c71d9"
      },
      "source": [
        "# .\n",
        "# .\n",
        "# ."
      ],
      "id": "a47fe035-70d3-4f52-843c-4671ed3c71d9"
    },
    {
      "cell_type": "markdown",
      "metadata": {
        "id": "4512782b-d36a-400d-bcbe-8c171763065a"
      },
      "source": [
        "### II. Cleaning the Text\n",
        "\n",
        "#### The texts in the dataset is in the form of human language, it needs to be cleaned/formatted so that it can be processed by the NLP model\n",
        "\n",
        "#### The processes given below need to be conducted to get the preprocessed state of the data:\n",
        "##### 1. Removal of 'Twitter characters' (mentions, hashtags, emojis)\n",
        "##### 2. Removal of stopwords (the, is, can, be, I, etc.)\n",
        "##### 3. Removal of Special Characters (unicode,* )\n",
        "##### 4. Removal of Punctuations and normalization of texts\n",
        "##### 5. Removal of Newline\n",
        "##### 6. Removal of HTML characters\n",
        "##### 7. Removal of consecutive whitespaces\n",
        "##### 8. Removal of tweets less than 5 words\n",
        "##### 9. Removal of tweets less more than 100 words"
      ],
      "id": "4512782b-d36a-400d-bcbe-8c171763065a"
    },
    {
      "cell_type": "markdown",
      "metadata": {
        "id": "d5d85847-3458-497f-a2bf-f0ca0e2f4559"
      },
      "source": [
        "## .\n",
        "## ."
      ],
      "id": "d5d85847-3458-497f-a2bf-f0ca0e2f4559"
    },
    {
      "cell_type": "markdown",
      "metadata": {
        "id": "05879f9e-de34-4456-aab1-ac7f98b89d9f"
      },
      "source": [
        "### 1. Removal of 'Twitter characters' (mentions, hashtags, emojis)"
      ],
      "id": "05879f9e-de34-4456-aab1-ac7f98b89d9f"
    },
    {
      "cell_type": "code",
      "execution_count": null,
      "metadata": {
        "id": "0358a152-4d9e-4462-8136-c52c4d7b6b25"
      },
      "outputs": [],
      "source": [
        "import preprocessor as p"
      ],
      "id": "0358a152-4d9e-4462-8136-c52c4d7b6b25"
    },
    {
      "cell_type": "code",
      "execution_count": null,
      "metadata": {
        "id": "781fa6e9-b47d-467a-9fab-393a766a6516"
      },
      "outputs": [],
      "source": [
        "def preprocess_tweet(row):\n",
        "    text = row['tweet_text']\n",
        "    text = p.clean(text)\n",
        "    return text"
      ],
      "id": "781fa6e9-b47d-467a-9fab-393a766a6516"
    },
    {
      "cell_type": "code",
      "execution_count": null,
      "metadata": {
        "colab": {
          "base_uri": "https://localhost:8080/",
          "height": 677
        },
        "id": "5b0a660a-4eef-4e7d-8dfb-e549d16ddb0e",
        "outputId": "22463689-d211-495e-a366-d121fe774b17"
      },
      "outputs": [
        {
          "output_type": "execute_result",
          "data": {
            "text/plain": [
              "                                           tweet_text  type\n",
              "0   In other words #katandandre, your food was cra...  none\n",
              "1   Why is #aussietv so white? #MKR #theblock #ImA...  none\n",
              "2   @XochitlSuckkks a classy whore? Or more red ve...  none\n",
              "3   @Jason_Gio meh. :P  thanks for the heads up, b...  none\n",
              "4   @RudhoeEnglish This is an ISIS account pretend...  none\n",
              "5   @Raja5aab @Quickieleaks Yes, the test of god i...  none\n",
              "6   Itu sekolah ya bukan tempat bully! Ga jauh kay...  none\n",
              "7   Karma. I hope it bites Kat on the butt. She is...  none\n",
              "8        @stockputout everything but mostly my priest  none\n",
              "9   Rebecca Black Drops Out of School Due to Bully...  none\n",
              "10               @Jord_Is_Dead http://t.co/UsQInYW5Gn  none\n",
              "11   The Bully flushes on KD http://twitvid.com/A2TNP  none\n",
              "12                                        Ughhhh #MKR  none\n",
              "13  RT @Kurdsnews: Turkish state has killed 241 ch...  none\n",
              "14  Love that the best response to the hotcakes th...  none\n",
              "15  @yasmimcaci @Bferrarii PAREM DE FAZER BULLYING...  none\n",
              "16  @sarinhacoral @Victor_Maggi tadinhu de mim , s...  none\n",
              "17  @0xabad1dea @kelseytheodore2 twitter is basica...  none\n",
              "18  Best pick up line? Hi, you're cute... ?: I lov...  none\n",
              "19  Now I gotta walk to classss?! I officially hat...  none"
            ],
            "text/html": [
              "\n",
              "  <div id=\"df-8fd4ee38-4fcf-4c75-9b95-13205030021c\">\n",
              "    <div class=\"colab-df-container\">\n",
              "      <div>\n",
              "<style scoped>\n",
              "    .dataframe tbody tr th:only-of-type {\n",
              "        vertical-align: middle;\n",
              "    }\n",
              "\n",
              "    .dataframe tbody tr th {\n",
              "        vertical-align: top;\n",
              "    }\n",
              "\n",
              "    .dataframe thead th {\n",
              "        text-align: right;\n",
              "    }\n",
              "</style>\n",
              "<table border=\"1\" class=\"dataframe\">\n",
              "  <thead>\n",
              "    <tr style=\"text-align: right;\">\n",
              "      <th></th>\n",
              "      <th>tweet_text</th>\n",
              "      <th>type</th>\n",
              "    </tr>\n",
              "  </thead>\n",
              "  <tbody>\n",
              "    <tr>\n",
              "      <th>0</th>\n",
              "      <td>In other words #katandandre, your food was cra...</td>\n",
              "      <td>none</td>\n",
              "    </tr>\n",
              "    <tr>\n",
              "      <th>1</th>\n",
              "      <td>Why is #aussietv so white? #MKR #theblock #ImA...</td>\n",
              "      <td>none</td>\n",
              "    </tr>\n",
              "    <tr>\n",
              "      <th>2</th>\n",
              "      <td>@XochitlSuckkks a classy whore? Or more red ve...</td>\n",
              "      <td>none</td>\n",
              "    </tr>\n",
              "    <tr>\n",
              "      <th>3</th>\n",
              "      <td>@Jason_Gio meh. :P  thanks for the heads up, b...</td>\n",
              "      <td>none</td>\n",
              "    </tr>\n",
              "    <tr>\n",
              "      <th>4</th>\n",
              "      <td>@RudhoeEnglish This is an ISIS account pretend...</td>\n",
              "      <td>none</td>\n",
              "    </tr>\n",
              "    <tr>\n",
              "      <th>5</th>\n",
              "      <td>@Raja5aab @Quickieleaks Yes, the test of god i...</td>\n",
              "      <td>none</td>\n",
              "    </tr>\n",
              "    <tr>\n",
              "      <th>6</th>\n",
              "      <td>Itu sekolah ya bukan tempat bully! Ga jauh kay...</td>\n",
              "      <td>none</td>\n",
              "    </tr>\n",
              "    <tr>\n",
              "      <th>7</th>\n",
              "      <td>Karma. I hope it bites Kat on the butt. She is...</td>\n",
              "      <td>none</td>\n",
              "    </tr>\n",
              "    <tr>\n",
              "      <th>8</th>\n",
              "      <td>@stockputout everything but mostly my priest</td>\n",
              "      <td>none</td>\n",
              "    </tr>\n",
              "    <tr>\n",
              "      <th>9</th>\n",
              "      <td>Rebecca Black Drops Out of School Due to Bully...</td>\n",
              "      <td>none</td>\n",
              "    </tr>\n",
              "    <tr>\n",
              "      <th>10</th>\n",
              "      <td>@Jord_Is_Dead http://t.co/UsQInYW5Gn</td>\n",
              "      <td>none</td>\n",
              "    </tr>\n",
              "    <tr>\n",
              "      <th>11</th>\n",
              "      <td>The Bully flushes on KD http://twitvid.com/A2TNP</td>\n",
              "      <td>none</td>\n",
              "    </tr>\n",
              "    <tr>\n",
              "      <th>12</th>\n",
              "      <td>Ughhhh #MKR</td>\n",
              "      <td>none</td>\n",
              "    </tr>\n",
              "    <tr>\n",
              "      <th>13</th>\n",
              "      <td>RT @Kurdsnews: Turkish state has killed 241 ch...</td>\n",
              "      <td>none</td>\n",
              "    </tr>\n",
              "    <tr>\n",
              "      <th>14</th>\n",
              "      <td>Love that the best response to the hotcakes th...</td>\n",
              "      <td>none</td>\n",
              "    </tr>\n",
              "    <tr>\n",
              "      <th>15</th>\n",
              "      <td>@yasmimcaci @Bferrarii PAREM DE FAZER BULLYING...</td>\n",
              "      <td>none</td>\n",
              "    </tr>\n",
              "    <tr>\n",
              "      <th>16</th>\n",
              "      <td>@sarinhacoral @Victor_Maggi tadinhu de mim , s...</td>\n",
              "      <td>none</td>\n",
              "    </tr>\n",
              "    <tr>\n",
              "      <th>17</th>\n",
              "      <td>@0xabad1dea @kelseytheodore2 twitter is basica...</td>\n",
              "      <td>none</td>\n",
              "    </tr>\n",
              "    <tr>\n",
              "      <th>18</th>\n",
              "      <td>Best pick up line? Hi, you're cute... ?: I lov...</td>\n",
              "      <td>none</td>\n",
              "    </tr>\n",
              "    <tr>\n",
              "      <th>19</th>\n",
              "      <td>Now I gotta walk to classss?! I officially hat...</td>\n",
              "      <td>none</td>\n",
              "    </tr>\n",
              "  </tbody>\n",
              "</table>\n",
              "</div>\n",
              "      <button class=\"colab-df-convert\" onclick=\"convertToInteractive('df-8fd4ee38-4fcf-4c75-9b95-13205030021c')\"\n",
              "              title=\"Convert this dataframe to an interactive table.\"\n",
              "              style=\"display:none;\">\n",
              "        \n",
              "  <svg xmlns=\"http://www.w3.org/2000/svg\" height=\"24px\"viewBox=\"0 0 24 24\"\n",
              "       width=\"24px\">\n",
              "    <path d=\"M0 0h24v24H0V0z\" fill=\"none\"/>\n",
              "    <path d=\"M18.56 5.44l.94 2.06.94-2.06 2.06-.94-2.06-.94-.94-2.06-.94 2.06-2.06.94zm-11 1L8.5 8.5l.94-2.06 2.06-.94-2.06-.94L8.5 2.5l-.94 2.06-2.06.94zm10 10l.94 2.06.94-2.06 2.06-.94-2.06-.94-.94-2.06-.94 2.06-2.06.94z\"/><path d=\"M17.41 7.96l-1.37-1.37c-.4-.4-.92-.59-1.43-.59-.52 0-1.04.2-1.43.59L10.3 9.45l-7.72 7.72c-.78.78-.78 2.05 0 2.83L4 21.41c.39.39.9.59 1.41.59.51 0 1.02-.2 1.41-.59l7.78-7.78 2.81-2.81c.8-.78.8-2.07 0-2.86zM5.41 20L4 18.59l7.72-7.72 1.47 1.35L5.41 20z\"/>\n",
              "  </svg>\n",
              "      </button>\n",
              "      \n",
              "  <style>\n",
              "    .colab-df-container {\n",
              "      display:flex;\n",
              "      flex-wrap:wrap;\n",
              "      gap: 12px;\n",
              "    }\n",
              "\n",
              "    .colab-df-convert {\n",
              "      background-color: #E8F0FE;\n",
              "      border: none;\n",
              "      border-radius: 50%;\n",
              "      cursor: pointer;\n",
              "      display: none;\n",
              "      fill: #1967D2;\n",
              "      height: 32px;\n",
              "      padding: 0 0 0 0;\n",
              "      width: 32px;\n",
              "    }\n",
              "\n",
              "    .colab-df-convert:hover {\n",
              "      background-color: #E2EBFA;\n",
              "      box-shadow: 0px 1px 2px rgba(60, 64, 67, 0.3), 0px 1px 3px 1px rgba(60, 64, 67, 0.15);\n",
              "      fill: #174EA6;\n",
              "    }\n",
              "\n",
              "    [theme=dark] .colab-df-convert {\n",
              "      background-color: #3B4455;\n",
              "      fill: #D2E3FC;\n",
              "    }\n",
              "\n",
              "    [theme=dark] .colab-df-convert:hover {\n",
              "      background-color: #434B5C;\n",
              "      box-shadow: 0px 1px 3px 1px rgba(0, 0, 0, 0.15);\n",
              "      filter: drop-shadow(0px 1px 2px rgba(0, 0, 0, 0.3));\n",
              "      fill: #FFFFFF;\n",
              "    }\n",
              "  </style>\n",
              "\n",
              "      <script>\n",
              "        const buttonEl =\n",
              "          document.querySelector('#df-8fd4ee38-4fcf-4c75-9b95-13205030021c button.colab-df-convert');\n",
              "        buttonEl.style.display =\n",
              "          google.colab.kernel.accessAllowed ? 'block' : 'none';\n",
              "\n",
              "        async function convertToInteractive(key) {\n",
              "          const element = document.querySelector('#df-8fd4ee38-4fcf-4c75-9b95-13205030021c');\n",
              "          const dataTable =\n",
              "            await google.colab.kernel.invokeFunction('convertToInteractive',\n",
              "                                                     [key], {});\n",
              "          if (!dataTable) return;\n",
              "\n",
              "          const docLinkHtml = 'Like what you see? Visit the ' +\n",
              "            '<a target=\"_blank\" href=https://colab.research.google.com/notebooks/data_table.ipynb>data table notebook</a>'\n",
              "            + ' to learn more about interactive tables.';\n",
              "          element.innerHTML = '';\n",
              "          dataTable['output_type'] = 'display_data';\n",
              "          await google.colab.output.renderOutput(dataTable, element);\n",
              "          const docLink = document.createElement('div');\n",
              "          docLink.innerHTML = docLinkHtml;\n",
              "          element.appendChild(docLink);\n",
              "        }\n",
              "      </script>\n",
              "    </div>\n",
              "  </div>\n",
              "  "
            ]
          },
          "metadata": {},
          "execution_count": 21
        }
      ],
      "source": [
        "rd.head(20)"
      ],
      "id": "5b0a660a-4eef-4e7d-8dfb-e549d16ddb0e"
    },
    {
      "cell_type": "code",
      "execution_count": null,
      "metadata": {
        "id": "2f146e4c-267d-43cb-87a3-4237da614cf7"
      },
      "outputs": [],
      "source": [
        "rd['tweet_text'] = rd.apply(preprocess_tweet, axis=1)"
      ],
      "id": "2f146e4c-267d-43cb-87a3-4237da614cf7"
    },
    {
      "cell_type": "markdown",
      "metadata": {
        "id": "20584b05-ca66-48bd-a47e-70a3b18f761e"
      },
      "source": [
        "##### As we can see all the hashtags, mentions, etc., are removed"
      ],
      "id": "20584b05-ca66-48bd-a47e-70a3b18f761e"
    },
    {
      "cell_type": "code",
      "execution_count": null,
      "metadata": {
        "colab": {
          "base_uri": "https://localhost:8080/",
          "height": 363
        },
        "id": "32cec5f2-3834-47ee-88fe-e64d5e14f4c6",
        "outputId": "7f64fed1-faa9-437e-cf19-5f8004581f94"
      },
      "outputs": [
        {
          "output_type": "execute_result",
          "data": {
            "text/plain": [
              "                                          tweet_text  type\n",
              "0       In other words , your food was crapilicious!  none\n",
              "1                                   Why is so white?  none\n",
              "2       a classy whore? Or more red velvet cupcakes?  none\n",
              "3  meh. thanks for the heads up, but not too conc...  none\n",
              "4  This is an ISIS account pretending to be a Kur...  none\n",
              "5  Yes, the test of god is that good or bad or in...  none\n",
              "6  Itu sekolah ya bukan tempat bully! Ga jauh kay...  none\n",
              "7  Karma. I hope it bites Kat on the butt. She is...  none\n",
              "8                    everything but mostly my priest  none\n",
              "9  Rebecca Black Drops Out of School Due to Bully...  none"
            ],
            "text/html": [
              "\n",
              "  <div id=\"df-1efe90d4-1d9f-45af-8e4d-f6663d5ff693\">\n",
              "    <div class=\"colab-df-container\">\n",
              "      <div>\n",
              "<style scoped>\n",
              "    .dataframe tbody tr th:only-of-type {\n",
              "        vertical-align: middle;\n",
              "    }\n",
              "\n",
              "    .dataframe tbody tr th {\n",
              "        vertical-align: top;\n",
              "    }\n",
              "\n",
              "    .dataframe thead th {\n",
              "        text-align: right;\n",
              "    }\n",
              "</style>\n",
              "<table border=\"1\" class=\"dataframe\">\n",
              "  <thead>\n",
              "    <tr style=\"text-align: right;\">\n",
              "      <th></th>\n",
              "      <th>tweet_text</th>\n",
              "      <th>type</th>\n",
              "    </tr>\n",
              "  </thead>\n",
              "  <tbody>\n",
              "    <tr>\n",
              "      <th>0</th>\n",
              "      <td>In other words , your food was crapilicious!</td>\n",
              "      <td>none</td>\n",
              "    </tr>\n",
              "    <tr>\n",
              "      <th>1</th>\n",
              "      <td>Why is so white?</td>\n",
              "      <td>none</td>\n",
              "    </tr>\n",
              "    <tr>\n",
              "      <th>2</th>\n",
              "      <td>a classy whore? Or more red velvet cupcakes?</td>\n",
              "      <td>none</td>\n",
              "    </tr>\n",
              "    <tr>\n",
              "      <th>3</th>\n",
              "      <td>meh. thanks for the heads up, but not too conc...</td>\n",
              "      <td>none</td>\n",
              "    </tr>\n",
              "    <tr>\n",
              "      <th>4</th>\n",
              "      <td>This is an ISIS account pretending to be a Kur...</td>\n",
              "      <td>none</td>\n",
              "    </tr>\n",
              "    <tr>\n",
              "      <th>5</th>\n",
              "      <td>Yes, the test of god is that good or bad or in...</td>\n",
              "      <td>none</td>\n",
              "    </tr>\n",
              "    <tr>\n",
              "      <th>6</th>\n",
              "      <td>Itu sekolah ya bukan tempat bully! Ga jauh kay...</td>\n",
              "      <td>none</td>\n",
              "    </tr>\n",
              "    <tr>\n",
              "      <th>7</th>\n",
              "      <td>Karma. I hope it bites Kat on the butt. She is...</td>\n",
              "      <td>none</td>\n",
              "    </tr>\n",
              "    <tr>\n",
              "      <th>8</th>\n",
              "      <td>everything but mostly my priest</td>\n",
              "      <td>none</td>\n",
              "    </tr>\n",
              "    <tr>\n",
              "      <th>9</th>\n",
              "      <td>Rebecca Black Drops Out of School Due to Bully...</td>\n",
              "      <td>none</td>\n",
              "    </tr>\n",
              "  </tbody>\n",
              "</table>\n",
              "</div>\n",
              "      <button class=\"colab-df-convert\" onclick=\"convertToInteractive('df-1efe90d4-1d9f-45af-8e4d-f6663d5ff693')\"\n",
              "              title=\"Convert this dataframe to an interactive table.\"\n",
              "              style=\"display:none;\">\n",
              "        \n",
              "  <svg xmlns=\"http://www.w3.org/2000/svg\" height=\"24px\"viewBox=\"0 0 24 24\"\n",
              "       width=\"24px\">\n",
              "    <path d=\"M0 0h24v24H0V0z\" fill=\"none\"/>\n",
              "    <path d=\"M18.56 5.44l.94 2.06.94-2.06 2.06-.94-2.06-.94-.94-2.06-.94 2.06-2.06.94zm-11 1L8.5 8.5l.94-2.06 2.06-.94-2.06-.94L8.5 2.5l-.94 2.06-2.06.94zm10 10l.94 2.06.94-2.06 2.06-.94-2.06-.94-.94-2.06-.94 2.06-2.06.94z\"/><path d=\"M17.41 7.96l-1.37-1.37c-.4-.4-.92-.59-1.43-.59-.52 0-1.04.2-1.43.59L10.3 9.45l-7.72 7.72c-.78.78-.78 2.05 0 2.83L4 21.41c.39.39.9.59 1.41.59.51 0 1.02-.2 1.41-.59l7.78-7.78 2.81-2.81c.8-.78.8-2.07 0-2.86zM5.41 20L4 18.59l7.72-7.72 1.47 1.35L5.41 20z\"/>\n",
              "  </svg>\n",
              "      </button>\n",
              "      \n",
              "  <style>\n",
              "    .colab-df-container {\n",
              "      display:flex;\n",
              "      flex-wrap:wrap;\n",
              "      gap: 12px;\n",
              "    }\n",
              "\n",
              "    .colab-df-convert {\n",
              "      background-color: #E8F0FE;\n",
              "      border: none;\n",
              "      border-radius: 50%;\n",
              "      cursor: pointer;\n",
              "      display: none;\n",
              "      fill: #1967D2;\n",
              "      height: 32px;\n",
              "      padding: 0 0 0 0;\n",
              "      width: 32px;\n",
              "    }\n",
              "\n",
              "    .colab-df-convert:hover {\n",
              "      background-color: #E2EBFA;\n",
              "      box-shadow: 0px 1px 2px rgba(60, 64, 67, 0.3), 0px 1px 3px 1px rgba(60, 64, 67, 0.15);\n",
              "      fill: #174EA6;\n",
              "    }\n",
              "\n",
              "    [theme=dark] .colab-df-convert {\n",
              "      background-color: #3B4455;\n",
              "      fill: #D2E3FC;\n",
              "    }\n",
              "\n",
              "    [theme=dark] .colab-df-convert:hover {\n",
              "      background-color: #434B5C;\n",
              "      box-shadow: 0px 1px 3px 1px rgba(0, 0, 0, 0.15);\n",
              "      filter: drop-shadow(0px 1px 2px rgba(0, 0, 0, 0.3));\n",
              "      fill: #FFFFFF;\n",
              "    }\n",
              "  </style>\n",
              "\n",
              "      <script>\n",
              "        const buttonEl =\n",
              "          document.querySelector('#df-1efe90d4-1d9f-45af-8e4d-f6663d5ff693 button.colab-df-convert');\n",
              "        buttonEl.style.display =\n",
              "          google.colab.kernel.accessAllowed ? 'block' : 'none';\n",
              "\n",
              "        async function convertToInteractive(key) {\n",
              "          const element = document.querySelector('#df-1efe90d4-1d9f-45af-8e4d-f6663d5ff693');\n",
              "          const dataTable =\n",
              "            await google.colab.kernel.invokeFunction('convertToInteractive',\n",
              "                                                     [key], {});\n",
              "          if (!dataTable) return;\n",
              "\n",
              "          const docLinkHtml = 'Like what you see? Visit the ' +\n",
              "            '<a target=\"_blank\" href=https://colab.research.google.com/notebooks/data_table.ipynb>data table notebook</a>'\n",
              "            + ' to learn more about interactive tables.';\n",
              "          element.innerHTML = '';\n",
              "          dataTable['output_type'] = 'display_data';\n",
              "          await google.colab.output.renderOutput(dataTable, element);\n",
              "          const docLink = document.createElement('div');\n",
              "          docLink.innerHTML = docLinkHtml;\n",
              "          element.appendChild(docLink);\n",
              "        }\n",
              "      </script>\n",
              "    </div>\n",
              "  </div>\n",
              "  "
            ]
          },
          "metadata": {},
          "execution_count": 23
        }
      ],
      "source": [
        "rd.head(10)"
      ],
      "id": "32cec5f2-3834-47ee-88fe-e64d5e14f4c6"
    },
    {
      "cell_type": "markdown",
      "metadata": {
        "id": "3c523091-688a-406b-9841-f40f04f72f7c"
      },
      "source": [
        "### 2. Removal of stopwords (the, is, can, be, I, etc.)"
      ],
      "id": "3c523091-688a-406b-9841-f40f04f72f7c"
    },
    {
      "cell_type": "code",
      "execution_count": null,
      "metadata": {
        "id": "33be8575-0669-45cf-a95c-85543a74fcdf"
      },
      "outputs": [],
      "source": [
        "from gensim.parsing.preprocessing import remove_stopwords"
      ],
      "id": "33be8575-0669-45cf-a95c-85543a74fcdf"
    },
    {
      "cell_type": "code",
      "execution_count": null,
      "metadata": {
        "id": "492e83e5-a3d0-42df-97ed-34a046c248fb"
      },
      "outputs": [],
      "source": [
        "def stopword_removal(row):\n",
        "    text = row['tweet_text']\n",
        "    text = remove_stopwords(text)\n",
        "    return text"
      ],
      "id": "492e83e5-a3d0-42df-97ed-34a046c248fb"
    },
    {
      "cell_type": "code",
      "execution_count": null,
      "metadata": {
        "id": "2c2538b6-89ec-4f3f-adc9-b5c7b0a3d31f"
      },
      "outputs": [],
      "source": [
        "rd['tweet_text'] = rd.apply(stopword_removal, axis=1)"
      ],
      "id": "2c2538b6-89ec-4f3f-adc9-b5c7b0a3d31f"
    },
    {
      "cell_type": "markdown",
      "metadata": {
        "id": "63b7245f-a1d9-48b1-8dca-4ba90d8a95f6"
      },
      "source": [
        "##### As you can see common english words such as 'the','as','can','be','which','was',etc. have been removed from the dataframe"
      ],
      "id": "63b7245f-a1d9-48b1-8dca-4ba90d8a95f6"
    },
    {
      "cell_type": "markdown",
      "metadata": {
        "id": "2a1f35ae-9eec-4208-a6b2-b7597ec91b8f"
      },
      "source": [
        "##### The main reason to do this is to remove all the words that do not add any value to the tweets/text."
      ],
      "id": "2a1f35ae-9eec-4208-a6b2-b7597ec91b8f"
    },
    {
      "cell_type": "code",
      "execution_count": null,
      "metadata": {
        "colab": {
          "base_uri": "https://localhost:8080/",
          "height": 677
        },
        "id": "5326009b-408d-459f-b58e-f9979b64cb00",
        "outputId": "0d1445e3-43d5-4402-99ea-4df937982102"
      },
      "outputs": [
        {
          "output_type": "execute_result",
          "data": {
            "text/plain": [
              "                                           tweet_text  type\n",
              "0                       In words , food crapilicious!  none\n",
              "1                                          Why white?  none\n",
              "2               classy whore? Or red velvet cupcakes?  none\n",
              "3   meh. thanks heads up, concerned angry dude twi...  none\n",
              "4   This ISIS account pretending Kurdish account. ...  none\n",
              "5   Yes, test god good bad indifferent weird whate...  none\n",
              "6   Itu sekolah ya bukan tempat bully! Ga jauh kay...  none\n",
              "7            Karma. I hope bites Kat butt. She nasty.  none\n",
              "8                                              priest  none\n",
              "9        Rebecca Black Drops Out School Due Bullying:  none\n",
              "10                                                     none\n",
              "11                               The Bully flushes KD  none\n",
              "12                                             Ughhhh  none\n",
              "13              : Turkish state killed children years  none\n",
              "14  Love best response hotcakes managed film non-c...  none\n",
              "15  PAREM DE FAZER BULLYING COMIGO UHAHUAH BANDO D...  none\n",
              "16           tadinhu mim , sofrendo bulling viu MIMI'  none\n",
              "17        twitter basically angry letters generation.  none\n",
              "18  Best pick line? Hi, you're cute... ?: I love p...  none\n",
              "19  Now I gotta walk classss?! I officially hate s...  none"
            ],
            "text/html": [
              "\n",
              "  <div id=\"df-6e4f6a14-2858-401b-9715-5e11bf1e4150\">\n",
              "    <div class=\"colab-df-container\">\n",
              "      <div>\n",
              "<style scoped>\n",
              "    .dataframe tbody tr th:only-of-type {\n",
              "        vertical-align: middle;\n",
              "    }\n",
              "\n",
              "    .dataframe tbody tr th {\n",
              "        vertical-align: top;\n",
              "    }\n",
              "\n",
              "    .dataframe thead th {\n",
              "        text-align: right;\n",
              "    }\n",
              "</style>\n",
              "<table border=\"1\" class=\"dataframe\">\n",
              "  <thead>\n",
              "    <tr style=\"text-align: right;\">\n",
              "      <th></th>\n",
              "      <th>tweet_text</th>\n",
              "      <th>type</th>\n",
              "    </tr>\n",
              "  </thead>\n",
              "  <tbody>\n",
              "    <tr>\n",
              "      <th>0</th>\n",
              "      <td>In words , food crapilicious!</td>\n",
              "      <td>none</td>\n",
              "    </tr>\n",
              "    <tr>\n",
              "      <th>1</th>\n",
              "      <td>Why white?</td>\n",
              "      <td>none</td>\n",
              "    </tr>\n",
              "    <tr>\n",
              "      <th>2</th>\n",
              "      <td>classy whore? Or red velvet cupcakes?</td>\n",
              "      <td>none</td>\n",
              "    </tr>\n",
              "    <tr>\n",
              "      <th>3</th>\n",
              "      <td>meh. thanks heads up, concerned angry dude twi...</td>\n",
              "      <td>none</td>\n",
              "    </tr>\n",
              "    <tr>\n",
              "      <th>4</th>\n",
              "      <td>This ISIS account pretending Kurdish account. ...</td>\n",
              "      <td>none</td>\n",
              "    </tr>\n",
              "    <tr>\n",
              "      <th>5</th>\n",
              "      <td>Yes, test god good bad indifferent weird whate...</td>\n",
              "      <td>none</td>\n",
              "    </tr>\n",
              "    <tr>\n",
              "      <th>6</th>\n",
              "      <td>Itu sekolah ya bukan tempat bully! Ga jauh kay...</td>\n",
              "      <td>none</td>\n",
              "    </tr>\n",
              "    <tr>\n",
              "      <th>7</th>\n",
              "      <td>Karma. I hope bites Kat butt. She nasty.</td>\n",
              "      <td>none</td>\n",
              "    </tr>\n",
              "    <tr>\n",
              "      <th>8</th>\n",
              "      <td>priest</td>\n",
              "      <td>none</td>\n",
              "    </tr>\n",
              "    <tr>\n",
              "      <th>9</th>\n",
              "      <td>Rebecca Black Drops Out School Due Bullying:</td>\n",
              "      <td>none</td>\n",
              "    </tr>\n",
              "    <tr>\n",
              "      <th>10</th>\n",
              "      <td></td>\n",
              "      <td>none</td>\n",
              "    </tr>\n",
              "    <tr>\n",
              "      <th>11</th>\n",
              "      <td>The Bully flushes KD</td>\n",
              "      <td>none</td>\n",
              "    </tr>\n",
              "    <tr>\n",
              "      <th>12</th>\n",
              "      <td>Ughhhh</td>\n",
              "      <td>none</td>\n",
              "    </tr>\n",
              "    <tr>\n",
              "      <th>13</th>\n",
              "      <td>: Turkish state killed children years</td>\n",
              "      <td>none</td>\n",
              "    </tr>\n",
              "    <tr>\n",
              "      <th>14</th>\n",
              "      <td>Love best response hotcakes managed film non-c...</td>\n",
              "      <td>none</td>\n",
              "    </tr>\n",
              "    <tr>\n",
              "      <th>15</th>\n",
              "      <td>PAREM DE FAZER BULLYING COMIGO UHAHUAH BANDO D...</td>\n",
              "      <td>none</td>\n",
              "    </tr>\n",
              "    <tr>\n",
              "      <th>16</th>\n",
              "      <td>tadinhu mim , sofrendo bulling viu MIMI'</td>\n",
              "      <td>none</td>\n",
              "    </tr>\n",
              "    <tr>\n",
              "      <th>17</th>\n",
              "      <td>twitter basically angry letters generation.</td>\n",
              "      <td>none</td>\n",
              "    </tr>\n",
              "    <tr>\n",
              "      <th>18</th>\n",
              "      <td>Best pick line? Hi, you're cute... ?: I love p...</td>\n",
              "      <td>none</td>\n",
              "    </tr>\n",
              "    <tr>\n",
              "      <th>19</th>\n",
              "      <td>Now I gotta walk classss?! I officially hate s...</td>\n",
              "      <td>none</td>\n",
              "    </tr>\n",
              "  </tbody>\n",
              "</table>\n",
              "</div>\n",
              "      <button class=\"colab-df-convert\" onclick=\"convertToInteractive('df-6e4f6a14-2858-401b-9715-5e11bf1e4150')\"\n",
              "              title=\"Convert this dataframe to an interactive table.\"\n",
              "              style=\"display:none;\">\n",
              "        \n",
              "  <svg xmlns=\"http://www.w3.org/2000/svg\" height=\"24px\"viewBox=\"0 0 24 24\"\n",
              "       width=\"24px\">\n",
              "    <path d=\"M0 0h24v24H0V0z\" fill=\"none\"/>\n",
              "    <path d=\"M18.56 5.44l.94 2.06.94-2.06 2.06-.94-2.06-.94-.94-2.06-.94 2.06-2.06.94zm-11 1L8.5 8.5l.94-2.06 2.06-.94-2.06-.94L8.5 2.5l-.94 2.06-2.06.94zm10 10l.94 2.06.94-2.06 2.06-.94-2.06-.94-.94-2.06-.94 2.06-2.06.94z\"/><path d=\"M17.41 7.96l-1.37-1.37c-.4-.4-.92-.59-1.43-.59-.52 0-1.04.2-1.43.59L10.3 9.45l-7.72 7.72c-.78.78-.78 2.05 0 2.83L4 21.41c.39.39.9.59 1.41.59.51 0 1.02-.2 1.41-.59l7.78-7.78 2.81-2.81c.8-.78.8-2.07 0-2.86zM5.41 20L4 18.59l7.72-7.72 1.47 1.35L5.41 20z\"/>\n",
              "  </svg>\n",
              "      </button>\n",
              "      \n",
              "  <style>\n",
              "    .colab-df-container {\n",
              "      display:flex;\n",
              "      flex-wrap:wrap;\n",
              "      gap: 12px;\n",
              "    }\n",
              "\n",
              "    .colab-df-convert {\n",
              "      background-color: #E8F0FE;\n",
              "      border: none;\n",
              "      border-radius: 50%;\n",
              "      cursor: pointer;\n",
              "      display: none;\n",
              "      fill: #1967D2;\n",
              "      height: 32px;\n",
              "      padding: 0 0 0 0;\n",
              "      width: 32px;\n",
              "    }\n",
              "\n",
              "    .colab-df-convert:hover {\n",
              "      background-color: #E2EBFA;\n",
              "      box-shadow: 0px 1px 2px rgba(60, 64, 67, 0.3), 0px 1px 3px 1px rgba(60, 64, 67, 0.15);\n",
              "      fill: #174EA6;\n",
              "    }\n",
              "\n",
              "    [theme=dark] .colab-df-convert {\n",
              "      background-color: #3B4455;\n",
              "      fill: #D2E3FC;\n",
              "    }\n",
              "\n",
              "    [theme=dark] .colab-df-convert:hover {\n",
              "      background-color: #434B5C;\n",
              "      box-shadow: 0px 1px 3px 1px rgba(0, 0, 0, 0.15);\n",
              "      filter: drop-shadow(0px 1px 2px rgba(0, 0, 0, 0.3));\n",
              "      fill: #FFFFFF;\n",
              "    }\n",
              "  </style>\n",
              "\n",
              "      <script>\n",
              "        const buttonEl =\n",
              "          document.querySelector('#df-6e4f6a14-2858-401b-9715-5e11bf1e4150 button.colab-df-convert');\n",
              "        buttonEl.style.display =\n",
              "          google.colab.kernel.accessAllowed ? 'block' : 'none';\n",
              "\n",
              "        async function convertToInteractive(key) {\n",
              "          const element = document.querySelector('#df-6e4f6a14-2858-401b-9715-5e11bf1e4150');\n",
              "          const dataTable =\n",
              "            await google.colab.kernel.invokeFunction('convertToInteractive',\n",
              "                                                     [key], {});\n",
              "          if (!dataTable) return;\n",
              "\n",
              "          const docLinkHtml = 'Like what you see? Visit the ' +\n",
              "            '<a target=\"_blank\" href=https://colab.research.google.com/notebooks/data_table.ipynb>data table notebook</a>'\n",
              "            + ' to learn more about interactive tables.';\n",
              "          element.innerHTML = '';\n",
              "          dataTable['output_type'] = 'display_data';\n",
              "          await google.colab.output.renderOutput(dataTable, element);\n",
              "          const docLink = document.createElement('div');\n",
              "          docLink.innerHTML = docLinkHtml;\n",
              "          element.appendChild(docLink);\n",
              "        }\n",
              "      </script>\n",
              "    </div>\n",
              "  </div>\n",
              "  "
            ]
          },
          "metadata": {},
          "execution_count": 27
        }
      ],
      "source": [
        "rd.head(20)"
      ],
      "id": "5326009b-408d-459f-b58e-f9979b64cb00"
    },
    {
      "cell_type": "markdown",
      "metadata": {
        "id": "d193d3b9-09ad-482e-af2a-9a8eb50ec959"
      },
      "source": [
        "### 3.Removal of Special Characters"
      ],
      "id": "d193d3b9-09ad-482e-af2a-9a8eb50ec959"
    },
    {
      "cell_type": "code",
      "execution_count": null,
      "metadata": {
        "id": "dfa9ada3-38c3-4ed6-af06-6443be1d48f5"
      },
      "outputs": [],
      "source": [
        "def spec_char_removal(row):\n",
        "    text = row['tweet_text']\n",
        "    text = re.sub('[^a-zA-Z]',' ',text)  \n",
        "    return text"
      ],
      "id": "dfa9ada3-38c3-4ed6-af06-6443be1d48f5"
    },
    {
      "cell_type": "code",
      "execution_count": null,
      "metadata": {
        "colab": {
          "base_uri": "https://localhost:8080/",
          "height": 677
        },
        "id": "07635787-e151-4710-aed2-dcf98aedd714",
        "outputId": "715095f2-512f-4cd6-c12e-bbe0c0273216"
      },
      "outputs": [
        {
          "output_type": "execute_result",
          "data": {
            "text/plain": [
              "                                           tweet_text  type\n",
              "0                       In words , food crapilicious!  none\n",
              "1                                          Why white?  none\n",
              "2               classy whore? Or red velvet cupcakes?  none\n",
              "3   meh. thanks heads up, concerned angry dude twi...  none\n",
              "4   This ISIS account pretending Kurdish account. ...  none\n",
              "5   Yes, test god good bad indifferent weird whate...  none\n",
              "6   Itu sekolah ya bukan tempat bully! Ga jauh kay...  none\n",
              "7            Karma. I hope bites Kat butt. She nasty.  none\n",
              "8                                              priest  none\n",
              "9        Rebecca Black Drops Out School Due Bullying:  none\n",
              "10                                                     none\n",
              "11                               The Bully flushes KD  none\n",
              "12                                             Ughhhh  none\n",
              "13              : Turkish state killed children years  none\n",
              "14  Love best response hotcakes managed film non-c...  none\n",
              "15  PAREM DE FAZER BULLYING COMIGO UHAHUAH BANDO D...  none\n",
              "16           tadinhu mim , sofrendo bulling viu MIMI'  none\n",
              "17        twitter basically angry letters generation.  none\n",
              "18  Best pick line? Hi, you're cute... ?: I love p...  none\n",
              "19  Now I gotta walk classss?! I officially hate s...  none"
            ],
            "text/html": [
              "\n",
              "  <div id=\"df-93df04e8-88e3-4397-b0af-2d970f77342d\">\n",
              "    <div class=\"colab-df-container\">\n",
              "      <div>\n",
              "<style scoped>\n",
              "    .dataframe tbody tr th:only-of-type {\n",
              "        vertical-align: middle;\n",
              "    }\n",
              "\n",
              "    .dataframe tbody tr th {\n",
              "        vertical-align: top;\n",
              "    }\n",
              "\n",
              "    .dataframe thead th {\n",
              "        text-align: right;\n",
              "    }\n",
              "</style>\n",
              "<table border=\"1\" class=\"dataframe\">\n",
              "  <thead>\n",
              "    <tr style=\"text-align: right;\">\n",
              "      <th></th>\n",
              "      <th>tweet_text</th>\n",
              "      <th>type</th>\n",
              "    </tr>\n",
              "  </thead>\n",
              "  <tbody>\n",
              "    <tr>\n",
              "      <th>0</th>\n",
              "      <td>In words , food crapilicious!</td>\n",
              "      <td>none</td>\n",
              "    </tr>\n",
              "    <tr>\n",
              "      <th>1</th>\n",
              "      <td>Why white?</td>\n",
              "      <td>none</td>\n",
              "    </tr>\n",
              "    <tr>\n",
              "      <th>2</th>\n",
              "      <td>classy whore? Or red velvet cupcakes?</td>\n",
              "      <td>none</td>\n",
              "    </tr>\n",
              "    <tr>\n",
              "      <th>3</th>\n",
              "      <td>meh. thanks heads up, concerned angry dude twi...</td>\n",
              "      <td>none</td>\n",
              "    </tr>\n",
              "    <tr>\n",
              "      <th>4</th>\n",
              "      <td>This ISIS account pretending Kurdish account. ...</td>\n",
              "      <td>none</td>\n",
              "    </tr>\n",
              "    <tr>\n",
              "      <th>5</th>\n",
              "      <td>Yes, test god good bad indifferent weird whate...</td>\n",
              "      <td>none</td>\n",
              "    </tr>\n",
              "    <tr>\n",
              "      <th>6</th>\n",
              "      <td>Itu sekolah ya bukan tempat bully! Ga jauh kay...</td>\n",
              "      <td>none</td>\n",
              "    </tr>\n",
              "    <tr>\n",
              "      <th>7</th>\n",
              "      <td>Karma. I hope bites Kat butt. She nasty.</td>\n",
              "      <td>none</td>\n",
              "    </tr>\n",
              "    <tr>\n",
              "      <th>8</th>\n",
              "      <td>priest</td>\n",
              "      <td>none</td>\n",
              "    </tr>\n",
              "    <tr>\n",
              "      <th>9</th>\n",
              "      <td>Rebecca Black Drops Out School Due Bullying:</td>\n",
              "      <td>none</td>\n",
              "    </tr>\n",
              "    <tr>\n",
              "      <th>10</th>\n",
              "      <td></td>\n",
              "      <td>none</td>\n",
              "    </tr>\n",
              "    <tr>\n",
              "      <th>11</th>\n",
              "      <td>The Bully flushes KD</td>\n",
              "      <td>none</td>\n",
              "    </tr>\n",
              "    <tr>\n",
              "      <th>12</th>\n",
              "      <td>Ughhhh</td>\n",
              "      <td>none</td>\n",
              "    </tr>\n",
              "    <tr>\n",
              "      <th>13</th>\n",
              "      <td>: Turkish state killed children years</td>\n",
              "      <td>none</td>\n",
              "    </tr>\n",
              "    <tr>\n",
              "      <th>14</th>\n",
              "      <td>Love best response hotcakes managed film non-c...</td>\n",
              "      <td>none</td>\n",
              "    </tr>\n",
              "    <tr>\n",
              "      <th>15</th>\n",
              "      <td>PAREM DE FAZER BULLYING COMIGO UHAHUAH BANDO D...</td>\n",
              "      <td>none</td>\n",
              "    </tr>\n",
              "    <tr>\n",
              "      <th>16</th>\n",
              "      <td>tadinhu mim , sofrendo bulling viu MIMI'</td>\n",
              "      <td>none</td>\n",
              "    </tr>\n",
              "    <tr>\n",
              "      <th>17</th>\n",
              "      <td>twitter basically angry letters generation.</td>\n",
              "      <td>none</td>\n",
              "    </tr>\n",
              "    <tr>\n",
              "      <th>18</th>\n",
              "      <td>Best pick line? Hi, you're cute... ?: I love p...</td>\n",
              "      <td>none</td>\n",
              "    </tr>\n",
              "    <tr>\n",
              "      <th>19</th>\n",
              "      <td>Now I gotta walk classss?! I officially hate s...</td>\n",
              "      <td>none</td>\n",
              "    </tr>\n",
              "  </tbody>\n",
              "</table>\n",
              "</div>\n",
              "      <button class=\"colab-df-convert\" onclick=\"convertToInteractive('df-93df04e8-88e3-4397-b0af-2d970f77342d')\"\n",
              "              title=\"Convert this dataframe to an interactive table.\"\n",
              "              style=\"display:none;\">\n",
              "        \n",
              "  <svg xmlns=\"http://www.w3.org/2000/svg\" height=\"24px\"viewBox=\"0 0 24 24\"\n",
              "       width=\"24px\">\n",
              "    <path d=\"M0 0h24v24H0V0z\" fill=\"none\"/>\n",
              "    <path d=\"M18.56 5.44l.94 2.06.94-2.06 2.06-.94-2.06-.94-.94-2.06-.94 2.06-2.06.94zm-11 1L8.5 8.5l.94-2.06 2.06-.94-2.06-.94L8.5 2.5l-.94 2.06-2.06.94zm10 10l.94 2.06.94-2.06 2.06-.94-2.06-.94-.94-2.06-.94 2.06-2.06.94z\"/><path d=\"M17.41 7.96l-1.37-1.37c-.4-.4-.92-.59-1.43-.59-.52 0-1.04.2-1.43.59L10.3 9.45l-7.72 7.72c-.78.78-.78 2.05 0 2.83L4 21.41c.39.39.9.59 1.41.59.51 0 1.02-.2 1.41-.59l7.78-7.78 2.81-2.81c.8-.78.8-2.07 0-2.86zM5.41 20L4 18.59l7.72-7.72 1.47 1.35L5.41 20z\"/>\n",
              "  </svg>\n",
              "      </button>\n",
              "      \n",
              "  <style>\n",
              "    .colab-df-container {\n",
              "      display:flex;\n",
              "      flex-wrap:wrap;\n",
              "      gap: 12px;\n",
              "    }\n",
              "\n",
              "    .colab-df-convert {\n",
              "      background-color: #E8F0FE;\n",
              "      border: none;\n",
              "      border-radius: 50%;\n",
              "      cursor: pointer;\n",
              "      display: none;\n",
              "      fill: #1967D2;\n",
              "      height: 32px;\n",
              "      padding: 0 0 0 0;\n",
              "      width: 32px;\n",
              "    }\n",
              "\n",
              "    .colab-df-convert:hover {\n",
              "      background-color: #E2EBFA;\n",
              "      box-shadow: 0px 1px 2px rgba(60, 64, 67, 0.3), 0px 1px 3px 1px rgba(60, 64, 67, 0.15);\n",
              "      fill: #174EA6;\n",
              "    }\n",
              "\n",
              "    [theme=dark] .colab-df-convert {\n",
              "      background-color: #3B4455;\n",
              "      fill: #D2E3FC;\n",
              "    }\n",
              "\n",
              "    [theme=dark] .colab-df-convert:hover {\n",
              "      background-color: #434B5C;\n",
              "      box-shadow: 0px 1px 3px 1px rgba(0, 0, 0, 0.15);\n",
              "      filter: drop-shadow(0px 1px 2px rgba(0, 0, 0, 0.3));\n",
              "      fill: #FFFFFF;\n",
              "    }\n",
              "  </style>\n",
              "\n",
              "      <script>\n",
              "        const buttonEl =\n",
              "          document.querySelector('#df-93df04e8-88e3-4397-b0af-2d970f77342d button.colab-df-convert');\n",
              "        buttonEl.style.display =\n",
              "          google.colab.kernel.accessAllowed ? 'block' : 'none';\n",
              "\n",
              "        async function convertToInteractive(key) {\n",
              "          const element = document.querySelector('#df-93df04e8-88e3-4397-b0af-2d970f77342d');\n",
              "          const dataTable =\n",
              "            await google.colab.kernel.invokeFunction('convertToInteractive',\n",
              "                                                     [key], {});\n",
              "          if (!dataTable) return;\n",
              "\n",
              "          const docLinkHtml = 'Like what you see? Visit the ' +\n",
              "            '<a target=\"_blank\" href=https://colab.research.google.com/notebooks/data_table.ipynb>data table notebook</a>'\n",
              "            + ' to learn more about interactive tables.';\n",
              "          element.innerHTML = '';\n",
              "          dataTable['output_type'] = 'display_data';\n",
              "          await google.colab.output.renderOutput(dataTable, element);\n",
              "          const docLink = document.createElement('div');\n",
              "          docLink.innerHTML = docLinkHtml;\n",
              "          element.appendChild(docLink);\n",
              "        }\n",
              "      </script>\n",
              "    </div>\n",
              "  </div>\n",
              "  "
            ]
          },
          "metadata": {},
          "execution_count": 29
        }
      ],
      "source": [
        "rd.head(20)"
      ],
      "id": "07635787-e151-4710-aed2-dcf98aedd714"
    },
    {
      "cell_type": "markdown",
      "metadata": {
        "id": "5290fe85-758a-4114-9b70-e76d80ff0146"
      },
      "source": [
        "### 4.Removal of Punctuations and normalization of texts"
      ],
      "id": "5290fe85-758a-4114-9b70-e76d80ff0146"
    },
    {
      "cell_type": "code",
      "execution_count": null,
      "metadata": {
        "colab": {
          "base_uri": "https://localhost:8080/"
        },
        "id": "f1888123-58c3-475d-9e7b-68d2a806730f",
        "outputId": "d324c5b2-0721-49bd-a696-f2de4b6623dd"
      },
      "outputs": [
        {
          "output_type": "stream",
          "name": "stderr",
          "text": [
            "<ipython-input-30-2a20b82c1c11>:1: FutureWarning: The default value of regex will change from True to False in a future version.\n",
            "  rd['tweet_text'] = rd['tweet_text'].str.lower().str.replace('[^\\w\\s]',' ').str.replace('\\s\\s+', ' ')\n"
          ]
        }
      ],
      "source": [
        "rd['tweet_text'] = rd['tweet_text'].str.lower().str.replace('[^\\w\\s]',' ').str.replace('\\s\\s+', ' ')"
      ],
      "id": "f1888123-58c3-475d-9e7b-68d2a806730f"
    },
    {
      "cell_type": "code",
      "execution_count": null,
      "metadata": {
        "colab": {
          "base_uri": "https://localhost:8080/",
          "height": 677
        },
        "id": "8e38ee5d-93f8-47f1-a133-f7ce7f16265f",
        "outputId": "1cc84735-1b7d-4a7c-9f23-6a49c7d9fd38"
      },
      "outputs": [
        {
          "output_type": "execute_result",
          "data": {
            "text/plain": [
              "                                           tweet_text  type\n",
              "0                         in words food crapilicious   none\n",
              "1                                          why white   none\n",
              "2                classy whore or red velvet cupcakes   none\n",
              "3   meh thanks heads up concerned angry dude twitter   none\n",
              "4   this isis account pretending kurdish account l...  none\n",
              "5   yes test god good bad indifferent weird whatev...  none\n",
              "6   itu sekolah ya bukan tempat bully ga jauh kaya...  none\n",
              "7              karma i hope bites kat butt she nasty   none\n",
              "8                                              priest  none\n",
              "9        rebecca black drops out school due bullying   none\n",
              "10                                                     none\n",
              "11                               the bully flushes kd  none\n",
              "12                                             ughhhh  none\n",
              "13                turkish state killed children years  none\n",
              "14  love best response hotcakes managed film non c...  none\n",
              "15  parem de fazer bullying comigo uhahuah bando d...  none\n",
              "16             tadinhu mim sofrendo bulling viu mimi   none\n",
              "17        twitter basically angry letters generation   none\n",
              "18  best pick line hi you re cute i love people ja...  none\n",
              "19  now i gotta walk classss i officially hate stu...  none"
            ],
            "text/html": [
              "\n",
              "  <div id=\"df-1e42b9d5-b157-4617-a3df-daeaa7d82ca7\">\n",
              "    <div class=\"colab-df-container\">\n",
              "      <div>\n",
              "<style scoped>\n",
              "    .dataframe tbody tr th:only-of-type {\n",
              "        vertical-align: middle;\n",
              "    }\n",
              "\n",
              "    .dataframe tbody tr th {\n",
              "        vertical-align: top;\n",
              "    }\n",
              "\n",
              "    .dataframe thead th {\n",
              "        text-align: right;\n",
              "    }\n",
              "</style>\n",
              "<table border=\"1\" class=\"dataframe\">\n",
              "  <thead>\n",
              "    <tr style=\"text-align: right;\">\n",
              "      <th></th>\n",
              "      <th>tweet_text</th>\n",
              "      <th>type</th>\n",
              "    </tr>\n",
              "  </thead>\n",
              "  <tbody>\n",
              "    <tr>\n",
              "      <th>0</th>\n",
              "      <td>in words food crapilicious</td>\n",
              "      <td>none</td>\n",
              "    </tr>\n",
              "    <tr>\n",
              "      <th>1</th>\n",
              "      <td>why white</td>\n",
              "      <td>none</td>\n",
              "    </tr>\n",
              "    <tr>\n",
              "      <th>2</th>\n",
              "      <td>classy whore or red velvet cupcakes</td>\n",
              "      <td>none</td>\n",
              "    </tr>\n",
              "    <tr>\n",
              "      <th>3</th>\n",
              "      <td>meh thanks heads up concerned angry dude twitter</td>\n",
              "      <td>none</td>\n",
              "    </tr>\n",
              "    <tr>\n",
              "      <th>4</th>\n",
              "      <td>this isis account pretending kurdish account l...</td>\n",
              "      <td>none</td>\n",
              "    </tr>\n",
              "    <tr>\n",
              "      <th>5</th>\n",
              "      <td>yes test god good bad indifferent weird whatev...</td>\n",
              "      <td>none</td>\n",
              "    </tr>\n",
              "    <tr>\n",
              "      <th>6</th>\n",
              "      <td>itu sekolah ya bukan tempat bully ga jauh kaya...</td>\n",
              "      <td>none</td>\n",
              "    </tr>\n",
              "    <tr>\n",
              "      <th>7</th>\n",
              "      <td>karma i hope bites kat butt she nasty</td>\n",
              "      <td>none</td>\n",
              "    </tr>\n",
              "    <tr>\n",
              "      <th>8</th>\n",
              "      <td>priest</td>\n",
              "      <td>none</td>\n",
              "    </tr>\n",
              "    <tr>\n",
              "      <th>9</th>\n",
              "      <td>rebecca black drops out school due bullying</td>\n",
              "      <td>none</td>\n",
              "    </tr>\n",
              "    <tr>\n",
              "      <th>10</th>\n",
              "      <td></td>\n",
              "      <td>none</td>\n",
              "    </tr>\n",
              "    <tr>\n",
              "      <th>11</th>\n",
              "      <td>the bully flushes kd</td>\n",
              "      <td>none</td>\n",
              "    </tr>\n",
              "    <tr>\n",
              "      <th>12</th>\n",
              "      <td>ughhhh</td>\n",
              "      <td>none</td>\n",
              "    </tr>\n",
              "    <tr>\n",
              "      <th>13</th>\n",
              "      <td>turkish state killed children years</td>\n",
              "      <td>none</td>\n",
              "    </tr>\n",
              "    <tr>\n",
              "      <th>14</th>\n",
              "      <td>love best response hotcakes managed film non c...</td>\n",
              "      <td>none</td>\n",
              "    </tr>\n",
              "    <tr>\n",
              "      <th>15</th>\n",
              "      <td>parem de fazer bullying comigo uhahuah bando d...</td>\n",
              "      <td>none</td>\n",
              "    </tr>\n",
              "    <tr>\n",
              "      <th>16</th>\n",
              "      <td>tadinhu mim sofrendo bulling viu mimi</td>\n",
              "      <td>none</td>\n",
              "    </tr>\n",
              "    <tr>\n",
              "      <th>17</th>\n",
              "      <td>twitter basically angry letters generation</td>\n",
              "      <td>none</td>\n",
              "    </tr>\n",
              "    <tr>\n",
              "      <th>18</th>\n",
              "      <td>best pick line hi you re cute i love people ja...</td>\n",
              "      <td>none</td>\n",
              "    </tr>\n",
              "    <tr>\n",
              "      <th>19</th>\n",
              "      <td>now i gotta walk classss i officially hate stu...</td>\n",
              "      <td>none</td>\n",
              "    </tr>\n",
              "  </tbody>\n",
              "</table>\n",
              "</div>\n",
              "      <button class=\"colab-df-convert\" onclick=\"convertToInteractive('df-1e42b9d5-b157-4617-a3df-daeaa7d82ca7')\"\n",
              "              title=\"Convert this dataframe to an interactive table.\"\n",
              "              style=\"display:none;\">\n",
              "        \n",
              "  <svg xmlns=\"http://www.w3.org/2000/svg\" height=\"24px\"viewBox=\"0 0 24 24\"\n",
              "       width=\"24px\">\n",
              "    <path d=\"M0 0h24v24H0V0z\" fill=\"none\"/>\n",
              "    <path d=\"M18.56 5.44l.94 2.06.94-2.06 2.06-.94-2.06-.94-.94-2.06-.94 2.06-2.06.94zm-11 1L8.5 8.5l.94-2.06 2.06-.94-2.06-.94L8.5 2.5l-.94 2.06-2.06.94zm10 10l.94 2.06.94-2.06 2.06-.94-2.06-.94-.94-2.06-.94 2.06-2.06.94z\"/><path d=\"M17.41 7.96l-1.37-1.37c-.4-.4-.92-.59-1.43-.59-.52 0-1.04.2-1.43.59L10.3 9.45l-7.72 7.72c-.78.78-.78 2.05 0 2.83L4 21.41c.39.39.9.59 1.41.59.51 0 1.02-.2 1.41-.59l7.78-7.78 2.81-2.81c.8-.78.8-2.07 0-2.86zM5.41 20L4 18.59l7.72-7.72 1.47 1.35L5.41 20z\"/>\n",
              "  </svg>\n",
              "      </button>\n",
              "      \n",
              "  <style>\n",
              "    .colab-df-container {\n",
              "      display:flex;\n",
              "      flex-wrap:wrap;\n",
              "      gap: 12px;\n",
              "    }\n",
              "\n",
              "    .colab-df-convert {\n",
              "      background-color: #E8F0FE;\n",
              "      border: none;\n",
              "      border-radius: 50%;\n",
              "      cursor: pointer;\n",
              "      display: none;\n",
              "      fill: #1967D2;\n",
              "      height: 32px;\n",
              "      padding: 0 0 0 0;\n",
              "      width: 32px;\n",
              "    }\n",
              "\n",
              "    .colab-df-convert:hover {\n",
              "      background-color: #E2EBFA;\n",
              "      box-shadow: 0px 1px 2px rgba(60, 64, 67, 0.3), 0px 1px 3px 1px rgba(60, 64, 67, 0.15);\n",
              "      fill: #174EA6;\n",
              "    }\n",
              "\n",
              "    [theme=dark] .colab-df-convert {\n",
              "      background-color: #3B4455;\n",
              "      fill: #D2E3FC;\n",
              "    }\n",
              "\n",
              "    [theme=dark] .colab-df-convert:hover {\n",
              "      background-color: #434B5C;\n",
              "      box-shadow: 0px 1px 3px 1px rgba(0, 0, 0, 0.15);\n",
              "      filter: drop-shadow(0px 1px 2px rgba(0, 0, 0, 0.3));\n",
              "      fill: #FFFFFF;\n",
              "    }\n",
              "  </style>\n",
              "\n",
              "      <script>\n",
              "        const buttonEl =\n",
              "          document.querySelector('#df-1e42b9d5-b157-4617-a3df-daeaa7d82ca7 button.colab-df-convert');\n",
              "        buttonEl.style.display =\n",
              "          google.colab.kernel.accessAllowed ? 'block' : 'none';\n",
              "\n",
              "        async function convertToInteractive(key) {\n",
              "          const element = document.querySelector('#df-1e42b9d5-b157-4617-a3df-daeaa7d82ca7');\n",
              "          const dataTable =\n",
              "            await google.colab.kernel.invokeFunction('convertToInteractive',\n",
              "                                                     [key], {});\n",
              "          if (!dataTable) return;\n",
              "\n",
              "          const docLinkHtml = 'Like what you see? Visit the ' +\n",
              "            '<a target=\"_blank\" href=https://colab.research.google.com/notebooks/data_table.ipynb>data table notebook</a>'\n",
              "            + ' to learn more about interactive tables.';\n",
              "          element.innerHTML = '';\n",
              "          dataTable['output_type'] = 'display_data';\n",
              "          await google.colab.output.renderOutput(dataTable, element);\n",
              "          const docLink = document.createElement('div');\n",
              "          docLink.innerHTML = docLinkHtml;\n",
              "          element.appendChild(docLink);\n",
              "        }\n",
              "      </script>\n",
              "    </div>\n",
              "  </div>\n",
              "  "
            ]
          },
          "metadata": {},
          "execution_count": 31
        }
      ],
      "source": [
        "rd.head(20)"
      ],
      "id": "8e38ee5d-93f8-47f1-a133-f7ce7f16265f"
    },
    {
      "cell_type": "markdown",
      "metadata": {
        "id": "d2fc4170-e7de-4872-a8b0-3daa104c271d"
      },
      "source": [
        "### 5.Removal of Newlines"
      ],
      "id": "d2fc4170-e7de-4872-a8b0-3daa104c271d"
    },
    {
      "cell_type": "code",
      "execution_count": null,
      "metadata": {
        "id": "1aebf082-8f56-425f-b5d8-5765391f5848"
      },
      "outputs": [],
      "source": [
        "def spec_char_removal(row):\n",
        "    text = row['tweet_text']\n",
        "    text = re.sub(\"\\n\",\" \",text) \n",
        "    return text"
      ],
      "id": "1aebf082-8f56-425f-b5d8-5765391f5848"
    },
    {
      "cell_type": "code",
      "execution_count": null,
      "metadata": {
        "colab": {
          "base_uri": "https://localhost:8080/",
          "height": 677
        },
        "id": "9d767978-e573-415a-b479-3163137e43ff",
        "outputId": "b09db61a-3131-4624-f7ed-32b94a2860cc"
      },
      "outputs": [
        {
          "output_type": "execute_result",
          "data": {
            "text/plain": [
              "                                           tweet_text  type\n",
              "0                         in words food crapilicious   none\n",
              "1                                          why white   none\n",
              "2                classy whore or red velvet cupcakes   none\n",
              "3   meh thanks heads up concerned angry dude twitter   none\n",
              "4   this isis account pretending kurdish account l...  none\n",
              "5   yes test god good bad indifferent weird whatev...  none\n",
              "6   itu sekolah ya bukan tempat bully ga jauh kaya...  none\n",
              "7              karma i hope bites kat butt she nasty   none\n",
              "8                                              priest  none\n",
              "9        rebecca black drops out school due bullying   none\n",
              "10                                                     none\n",
              "11                               the bully flushes kd  none\n",
              "12                                             ughhhh  none\n",
              "13                turkish state killed children years  none\n",
              "14  love best response hotcakes managed film non c...  none\n",
              "15  parem de fazer bullying comigo uhahuah bando d...  none\n",
              "16             tadinhu mim sofrendo bulling viu mimi   none\n",
              "17        twitter basically angry letters generation   none\n",
              "18  best pick line hi you re cute i love people ja...  none\n",
              "19  now i gotta walk classss i officially hate stu...  none"
            ],
            "text/html": [
              "\n",
              "  <div id=\"df-bef3ec5d-8255-429d-ada4-46cbd78a5e5e\">\n",
              "    <div class=\"colab-df-container\">\n",
              "      <div>\n",
              "<style scoped>\n",
              "    .dataframe tbody tr th:only-of-type {\n",
              "        vertical-align: middle;\n",
              "    }\n",
              "\n",
              "    .dataframe tbody tr th {\n",
              "        vertical-align: top;\n",
              "    }\n",
              "\n",
              "    .dataframe thead th {\n",
              "        text-align: right;\n",
              "    }\n",
              "</style>\n",
              "<table border=\"1\" class=\"dataframe\">\n",
              "  <thead>\n",
              "    <tr style=\"text-align: right;\">\n",
              "      <th></th>\n",
              "      <th>tweet_text</th>\n",
              "      <th>type</th>\n",
              "    </tr>\n",
              "  </thead>\n",
              "  <tbody>\n",
              "    <tr>\n",
              "      <th>0</th>\n",
              "      <td>in words food crapilicious</td>\n",
              "      <td>none</td>\n",
              "    </tr>\n",
              "    <tr>\n",
              "      <th>1</th>\n",
              "      <td>why white</td>\n",
              "      <td>none</td>\n",
              "    </tr>\n",
              "    <tr>\n",
              "      <th>2</th>\n",
              "      <td>classy whore or red velvet cupcakes</td>\n",
              "      <td>none</td>\n",
              "    </tr>\n",
              "    <tr>\n",
              "      <th>3</th>\n",
              "      <td>meh thanks heads up concerned angry dude twitter</td>\n",
              "      <td>none</td>\n",
              "    </tr>\n",
              "    <tr>\n",
              "      <th>4</th>\n",
              "      <td>this isis account pretending kurdish account l...</td>\n",
              "      <td>none</td>\n",
              "    </tr>\n",
              "    <tr>\n",
              "      <th>5</th>\n",
              "      <td>yes test god good bad indifferent weird whatev...</td>\n",
              "      <td>none</td>\n",
              "    </tr>\n",
              "    <tr>\n",
              "      <th>6</th>\n",
              "      <td>itu sekolah ya bukan tempat bully ga jauh kaya...</td>\n",
              "      <td>none</td>\n",
              "    </tr>\n",
              "    <tr>\n",
              "      <th>7</th>\n",
              "      <td>karma i hope bites kat butt she nasty</td>\n",
              "      <td>none</td>\n",
              "    </tr>\n",
              "    <tr>\n",
              "      <th>8</th>\n",
              "      <td>priest</td>\n",
              "      <td>none</td>\n",
              "    </tr>\n",
              "    <tr>\n",
              "      <th>9</th>\n",
              "      <td>rebecca black drops out school due bullying</td>\n",
              "      <td>none</td>\n",
              "    </tr>\n",
              "    <tr>\n",
              "      <th>10</th>\n",
              "      <td></td>\n",
              "      <td>none</td>\n",
              "    </tr>\n",
              "    <tr>\n",
              "      <th>11</th>\n",
              "      <td>the bully flushes kd</td>\n",
              "      <td>none</td>\n",
              "    </tr>\n",
              "    <tr>\n",
              "      <th>12</th>\n",
              "      <td>ughhhh</td>\n",
              "      <td>none</td>\n",
              "    </tr>\n",
              "    <tr>\n",
              "      <th>13</th>\n",
              "      <td>turkish state killed children years</td>\n",
              "      <td>none</td>\n",
              "    </tr>\n",
              "    <tr>\n",
              "      <th>14</th>\n",
              "      <td>love best response hotcakes managed film non c...</td>\n",
              "      <td>none</td>\n",
              "    </tr>\n",
              "    <tr>\n",
              "      <th>15</th>\n",
              "      <td>parem de fazer bullying comigo uhahuah bando d...</td>\n",
              "      <td>none</td>\n",
              "    </tr>\n",
              "    <tr>\n",
              "      <th>16</th>\n",
              "      <td>tadinhu mim sofrendo bulling viu mimi</td>\n",
              "      <td>none</td>\n",
              "    </tr>\n",
              "    <tr>\n",
              "      <th>17</th>\n",
              "      <td>twitter basically angry letters generation</td>\n",
              "      <td>none</td>\n",
              "    </tr>\n",
              "    <tr>\n",
              "      <th>18</th>\n",
              "      <td>best pick line hi you re cute i love people ja...</td>\n",
              "      <td>none</td>\n",
              "    </tr>\n",
              "    <tr>\n",
              "      <th>19</th>\n",
              "      <td>now i gotta walk classss i officially hate stu...</td>\n",
              "      <td>none</td>\n",
              "    </tr>\n",
              "  </tbody>\n",
              "</table>\n",
              "</div>\n",
              "      <button class=\"colab-df-convert\" onclick=\"convertToInteractive('df-bef3ec5d-8255-429d-ada4-46cbd78a5e5e')\"\n",
              "              title=\"Convert this dataframe to an interactive table.\"\n",
              "              style=\"display:none;\">\n",
              "        \n",
              "  <svg xmlns=\"http://www.w3.org/2000/svg\" height=\"24px\"viewBox=\"0 0 24 24\"\n",
              "       width=\"24px\">\n",
              "    <path d=\"M0 0h24v24H0V0z\" fill=\"none\"/>\n",
              "    <path d=\"M18.56 5.44l.94 2.06.94-2.06 2.06-.94-2.06-.94-.94-2.06-.94 2.06-2.06.94zm-11 1L8.5 8.5l.94-2.06 2.06-.94-2.06-.94L8.5 2.5l-.94 2.06-2.06.94zm10 10l.94 2.06.94-2.06 2.06-.94-2.06-.94-.94-2.06-.94 2.06-2.06.94z\"/><path d=\"M17.41 7.96l-1.37-1.37c-.4-.4-.92-.59-1.43-.59-.52 0-1.04.2-1.43.59L10.3 9.45l-7.72 7.72c-.78.78-.78 2.05 0 2.83L4 21.41c.39.39.9.59 1.41.59.51 0 1.02-.2 1.41-.59l7.78-7.78 2.81-2.81c.8-.78.8-2.07 0-2.86zM5.41 20L4 18.59l7.72-7.72 1.47 1.35L5.41 20z\"/>\n",
              "  </svg>\n",
              "      </button>\n",
              "      \n",
              "  <style>\n",
              "    .colab-df-container {\n",
              "      display:flex;\n",
              "      flex-wrap:wrap;\n",
              "      gap: 12px;\n",
              "    }\n",
              "\n",
              "    .colab-df-convert {\n",
              "      background-color: #E8F0FE;\n",
              "      border: none;\n",
              "      border-radius: 50%;\n",
              "      cursor: pointer;\n",
              "      display: none;\n",
              "      fill: #1967D2;\n",
              "      height: 32px;\n",
              "      padding: 0 0 0 0;\n",
              "      width: 32px;\n",
              "    }\n",
              "\n",
              "    .colab-df-convert:hover {\n",
              "      background-color: #E2EBFA;\n",
              "      box-shadow: 0px 1px 2px rgba(60, 64, 67, 0.3), 0px 1px 3px 1px rgba(60, 64, 67, 0.15);\n",
              "      fill: #174EA6;\n",
              "    }\n",
              "\n",
              "    [theme=dark] .colab-df-convert {\n",
              "      background-color: #3B4455;\n",
              "      fill: #D2E3FC;\n",
              "    }\n",
              "\n",
              "    [theme=dark] .colab-df-convert:hover {\n",
              "      background-color: #434B5C;\n",
              "      box-shadow: 0px 1px 3px 1px rgba(0, 0, 0, 0.15);\n",
              "      filter: drop-shadow(0px 1px 2px rgba(0, 0, 0, 0.3));\n",
              "      fill: #FFFFFF;\n",
              "    }\n",
              "  </style>\n",
              "\n",
              "      <script>\n",
              "        const buttonEl =\n",
              "          document.querySelector('#df-bef3ec5d-8255-429d-ada4-46cbd78a5e5e button.colab-df-convert');\n",
              "        buttonEl.style.display =\n",
              "          google.colab.kernel.accessAllowed ? 'block' : 'none';\n",
              "\n",
              "        async function convertToInteractive(key) {\n",
              "          const element = document.querySelector('#df-bef3ec5d-8255-429d-ada4-46cbd78a5e5e');\n",
              "          const dataTable =\n",
              "            await google.colab.kernel.invokeFunction('convertToInteractive',\n",
              "                                                     [key], {});\n",
              "          if (!dataTable) return;\n",
              "\n",
              "          const docLinkHtml = 'Like what you see? Visit the ' +\n",
              "            '<a target=\"_blank\" href=https://colab.research.google.com/notebooks/data_table.ipynb>data table notebook</a>'\n",
              "            + ' to learn more about interactive tables.';\n",
              "          element.innerHTML = '';\n",
              "          dataTable['output_type'] = 'display_data';\n",
              "          await google.colab.output.renderOutput(dataTable, element);\n",
              "          const docLink = document.createElement('div');\n",
              "          docLink.innerHTML = docLinkHtml;\n",
              "          element.appendChild(docLink);\n",
              "        }\n",
              "      </script>\n",
              "    </div>\n",
              "  </div>\n",
              "  "
            ]
          },
          "metadata": {},
          "execution_count": 33
        }
      ],
      "source": [
        "rd.head(20)"
      ],
      "id": "9d767978-e573-415a-b479-3163137e43ff"
    },
    {
      "cell_type": "markdown",
      "metadata": {
        "id": "e50046e3-0126-4091-bbc8-e7ef3bfa3367"
      },
      "source": [
        "### 6.Removal of HTML Characters"
      ],
      "id": "e50046e3-0126-4091-bbc8-e7ef3bfa3367"
    },
    {
      "cell_type": "code",
      "execution_count": null,
      "metadata": {
        "id": "84a60106-1980-494f-bf07-faaa55ea78c1"
      },
      "outputs": [],
      "source": [
        "def html_char_removal(row):\n",
        "    text = row['tweet_text']\n",
        "    text=re.sub('<.*?>', ' ', text) \n",
        "    return text"
      ],
      "id": "84a60106-1980-494f-bf07-faaa55ea78c1"
    },
    {
      "cell_type": "code",
      "execution_count": null,
      "metadata": {
        "colab": {
          "base_uri": "https://localhost:8080/",
          "height": 677
        },
        "id": "79b63a76-1ef3-4dd3-9c06-539b7df5d6b8",
        "outputId": "539a6911-f273-488b-a32b-0af220af6e0a"
      },
      "outputs": [
        {
          "output_type": "execute_result",
          "data": {
            "text/plain": [
              "                                           tweet_text  type\n",
              "0                         in words food crapilicious   none\n",
              "1                                          why white   none\n",
              "2                classy whore or red velvet cupcakes   none\n",
              "3   meh thanks heads up concerned angry dude twitter   none\n",
              "4   this isis account pretending kurdish account l...  none\n",
              "5   yes test god good bad indifferent weird whatev...  none\n",
              "6   itu sekolah ya bukan tempat bully ga jauh kaya...  none\n",
              "7              karma i hope bites kat butt she nasty   none\n",
              "8                                              priest  none\n",
              "9        rebecca black drops out school due bullying   none\n",
              "10                                                     none\n",
              "11                               the bully flushes kd  none\n",
              "12                                             ughhhh  none\n",
              "13                turkish state killed children years  none\n",
              "14  love best response hotcakes managed film non c...  none\n",
              "15  parem de fazer bullying comigo uhahuah bando d...  none\n",
              "16             tadinhu mim sofrendo bulling viu mimi   none\n",
              "17        twitter basically angry letters generation   none\n",
              "18  best pick line hi you re cute i love people ja...  none\n",
              "19  now i gotta walk classss i officially hate stu...  none"
            ],
            "text/html": [
              "\n",
              "  <div id=\"df-083234d4-d36b-4547-88ab-66602ba0ba12\">\n",
              "    <div class=\"colab-df-container\">\n",
              "      <div>\n",
              "<style scoped>\n",
              "    .dataframe tbody tr th:only-of-type {\n",
              "        vertical-align: middle;\n",
              "    }\n",
              "\n",
              "    .dataframe tbody tr th {\n",
              "        vertical-align: top;\n",
              "    }\n",
              "\n",
              "    .dataframe thead th {\n",
              "        text-align: right;\n",
              "    }\n",
              "</style>\n",
              "<table border=\"1\" class=\"dataframe\">\n",
              "  <thead>\n",
              "    <tr style=\"text-align: right;\">\n",
              "      <th></th>\n",
              "      <th>tweet_text</th>\n",
              "      <th>type</th>\n",
              "    </tr>\n",
              "  </thead>\n",
              "  <tbody>\n",
              "    <tr>\n",
              "      <th>0</th>\n",
              "      <td>in words food crapilicious</td>\n",
              "      <td>none</td>\n",
              "    </tr>\n",
              "    <tr>\n",
              "      <th>1</th>\n",
              "      <td>why white</td>\n",
              "      <td>none</td>\n",
              "    </tr>\n",
              "    <tr>\n",
              "      <th>2</th>\n",
              "      <td>classy whore or red velvet cupcakes</td>\n",
              "      <td>none</td>\n",
              "    </tr>\n",
              "    <tr>\n",
              "      <th>3</th>\n",
              "      <td>meh thanks heads up concerned angry dude twitter</td>\n",
              "      <td>none</td>\n",
              "    </tr>\n",
              "    <tr>\n",
              "      <th>4</th>\n",
              "      <td>this isis account pretending kurdish account l...</td>\n",
              "      <td>none</td>\n",
              "    </tr>\n",
              "    <tr>\n",
              "      <th>5</th>\n",
              "      <td>yes test god good bad indifferent weird whatev...</td>\n",
              "      <td>none</td>\n",
              "    </tr>\n",
              "    <tr>\n",
              "      <th>6</th>\n",
              "      <td>itu sekolah ya bukan tempat bully ga jauh kaya...</td>\n",
              "      <td>none</td>\n",
              "    </tr>\n",
              "    <tr>\n",
              "      <th>7</th>\n",
              "      <td>karma i hope bites kat butt she nasty</td>\n",
              "      <td>none</td>\n",
              "    </tr>\n",
              "    <tr>\n",
              "      <th>8</th>\n",
              "      <td>priest</td>\n",
              "      <td>none</td>\n",
              "    </tr>\n",
              "    <tr>\n",
              "      <th>9</th>\n",
              "      <td>rebecca black drops out school due bullying</td>\n",
              "      <td>none</td>\n",
              "    </tr>\n",
              "    <tr>\n",
              "      <th>10</th>\n",
              "      <td></td>\n",
              "      <td>none</td>\n",
              "    </tr>\n",
              "    <tr>\n",
              "      <th>11</th>\n",
              "      <td>the bully flushes kd</td>\n",
              "      <td>none</td>\n",
              "    </tr>\n",
              "    <tr>\n",
              "      <th>12</th>\n",
              "      <td>ughhhh</td>\n",
              "      <td>none</td>\n",
              "    </tr>\n",
              "    <tr>\n",
              "      <th>13</th>\n",
              "      <td>turkish state killed children years</td>\n",
              "      <td>none</td>\n",
              "    </tr>\n",
              "    <tr>\n",
              "      <th>14</th>\n",
              "      <td>love best response hotcakes managed film non c...</td>\n",
              "      <td>none</td>\n",
              "    </tr>\n",
              "    <tr>\n",
              "      <th>15</th>\n",
              "      <td>parem de fazer bullying comigo uhahuah bando d...</td>\n",
              "      <td>none</td>\n",
              "    </tr>\n",
              "    <tr>\n",
              "      <th>16</th>\n",
              "      <td>tadinhu mim sofrendo bulling viu mimi</td>\n",
              "      <td>none</td>\n",
              "    </tr>\n",
              "    <tr>\n",
              "      <th>17</th>\n",
              "      <td>twitter basically angry letters generation</td>\n",
              "      <td>none</td>\n",
              "    </tr>\n",
              "    <tr>\n",
              "      <th>18</th>\n",
              "      <td>best pick line hi you re cute i love people ja...</td>\n",
              "      <td>none</td>\n",
              "    </tr>\n",
              "    <tr>\n",
              "      <th>19</th>\n",
              "      <td>now i gotta walk classss i officially hate stu...</td>\n",
              "      <td>none</td>\n",
              "    </tr>\n",
              "  </tbody>\n",
              "</table>\n",
              "</div>\n",
              "      <button class=\"colab-df-convert\" onclick=\"convertToInteractive('df-083234d4-d36b-4547-88ab-66602ba0ba12')\"\n",
              "              title=\"Convert this dataframe to an interactive table.\"\n",
              "              style=\"display:none;\">\n",
              "        \n",
              "  <svg xmlns=\"http://www.w3.org/2000/svg\" height=\"24px\"viewBox=\"0 0 24 24\"\n",
              "       width=\"24px\">\n",
              "    <path d=\"M0 0h24v24H0V0z\" fill=\"none\"/>\n",
              "    <path d=\"M18.56 5.44l.94 2.06.94-2.06 2.06-.94-2.06-.94-.94-2.06-.94 2.06-2.06.94zm-11 1L8.5 8.5l.94-2.06 2.06-.94-2.06-.94L8.5 2.5l-.94 2.06-2.06.94zm10 10l.94 2.06.94-2.06 2.06-.94-2.06-.94-.94-2.06-.94 2.06-2.06.94z\"/><path d=\"M17.41 7.96l-1.37-1.37c-.4-.4-.92-.59-1.43-.59-.52 0-1.04.2-1.43.59L10.3 9.45l-7.72 7.72c-.78.78-.78 2.05 0 2.83L4 21.41c.39.39.9.59 1.41.59.51 0 1.02-.2 1.41-.59l7.78-7.78 2.81-2.81c.8-.78.8-2.07 0-2.86zM5.41 20L4 18.59l7.72-7.72 1.47 1.35L5.41 20z\"/>\n",
              "  </svg>\n",
              "      </button>\n",
              "      \n",
              "  <style>\n",
              "    .colab-df-container {\n",
              "      display:flex;\n",
              "      flex-wrap:wrap;\n",
              "      gap: 12px;\n",
              "    }\n",
              "\n",
              "    .colab-df-convert {\n",
              "      background-color: #E8F0FE;\n",
              "      border: none;\n",
              "      border-radius: 50%;\n",
              "      cursor: pointer;\n",
              "      display: none;\n",
              "      fill: #1967D2;\n",
              "      height: 32px;\n",
              "      padding: 0 0 0 0;\n",
              "      width: 32px;\n",
              "    }\n",
              "\n",
              "    .colab-df-convert:hover {\n",
              "      background-color: #E2EBFA;\n",
              "      box-shadow: 0px 1px 2px rgba(60, 64, 67, 0.3), 0px 1px 3px 1px rgba(60, 64, 67, 0.15);\n",
              "      fill: #174EA6;\n",
              "    }\n",
              "\n",
              "    [theme=dark] .colab-df-convert {\n",
              "      background-color: #3B4455;\n",
              "      fill: #D2E3FC;\n",
              "    }\n",
              "\n",
              "    [theme=dark] .colab-df-convert:hover {\n",
              "      background-color: #434B5C;\n",
              "      box-shadow: 0px 1px 3px 1px rgba(0, 0, 0, 0.15);\n",
              "      filter: drop-shadow(0px 1px 2px rgba(0, 0, 0, 0.3));\n",
              "      fill: #FFFFFF;\n",
              "    }\n",
              "  </style>\n",
              "\n",
              "      <script>\n",
              "        const buttonEl =\n",
              "          document.querySelector('#df-083234d4-d36b-4547-88ab-66602ba0ba12 button.colab-df-convert');\n",
              "        buttonEl.style.display =\n",
              "          google.colab.kernel.accessAllowed ? 'block' : 'none';\n",
              "\n",
              "        async function convertToInteractive(key) {\n",
              "          const element = document.querySelector('#df-083234d4-d36b-4547-88ab-66602ba0ba12');\n",
              "          const dataTable =\n",
              "            await google.colab.kernel.invokeFunction('convertToInteractive',\n",
              "                                                     [key], {});\n",
              "          if (!dataTable) return;\n",
              "\n",
              "          const docLinkHtml = 'Like what you see? Visit the ' +\n",
              "            '<a target=\"_blank\" href=https://colab.research.google.com/notebooks/data_table.ipynb>data table notebook</a>'\n",
              "            + ' to learn more about interactive tables.';\n",
              "          element.innerHTML = '';\n",
              "          dataTable['output_type'] = 'display_data';\n",
              "          await google.colab.output.renderOutput(dataTable, element);\n",
              "          const docLink = document.createElement('div');\n",
              "          docLink.innerHTML = docLinkHtml;\n",
              "          element.appendChild(docLink);\n",
              "        }\n",
              "      </script>\n",
              "    </div>\n",
              "  </div>\n",
              "  "
            ]
          },
          "metadata": {},
          "execution_count": 35
        }
      ],
      "source": [
        "rd.head(20)"
      ],
      "id": "79b63a76-1ef3-4dd3-9c06-539b7df5d6b8"
    },
    {
      "cell_type": "markdown",
      "metadata": {
        "id": "0c5d1504-dda6-4cc2-8b6b-82aaf9040f92"
      },
      "source": [
        "### 7.Removal of consecutive Whitespaces"
      ],
      "id": "0c5d1504-dda6-4cc2-8b6b-82aaf9040f92"
    },
    {
      "cell_type": "code",
      "execution_count": null,
      "metadata": {
        "id": "df791236-9033-4bd3-adcf-666a3baae708"
      },
      "outputs": [],
      "source": [
        "def cons_space_removal(text):\n",
        "    text= row[\"tweet_text\"]\n",
        "    tex=re.sub(\"\\s\\s+\" , \" \", text)\n",
        "    return text"
      ],
      "id": "df791236-9033-4bd3-adcf-666a3baae708"
    },
    {
      "cell_type": "code",
      "execution_count": null,
      "metadata": {
        "colab": {
          "base_uri": "https://localhost:8080/",
          "height": 677
        },
        "id": "c1aa178a-b933-482a-bde7-5bceee39f636",
        "outputId": "46cbae64-e83e-4336-cf6b-266c5b493c96"
      },
      "outputs": [
        {
          "output_type": "execute_result",
          "data": {
            "text/plain": [
              "                                           tweet_text  type\n",
              "0                         in words food crapilicious   none\n",
              "1                                          why white   none\n",
              "2                classy whore or red velvet cupcakes   none\n",
              "3   meh thanks heads up concerned angry dude twitter   none\n",
              "4   this isis account pretending kurdish account l...  none\n",
              "5   yes test god good bad indifferent weird whatev...  none\n",
              "6   itu sekolah ya bukan tempat bully ga jauh kaya...  none\n",
              "7              karma i hope bites kat butt she nasty   none\n",
              "8                                              priest  none\n",
              "9        rebecca black drops out school due bullying   none\n",
              "10                                                     none\n",
              "11                               the bully flushes kd  none\n",
              "12                                             ughhhh  none\n",
              "13                turkish state killed children years  none\n",
              "14  love best response hotcakes managed film non c...  none\n",
              "15  parem de fazer bullying comigo uhahuah bando d...  none\n",
              "16             tadinhu mim sofrendo bulling viu mimi   none\n",
              "17        twitter basically angry letters generation   none\n",
              "18  best pick line hi you re cute i love people ja...  none\n",
              "19  now i gotta walk classss i officially hate stu...  none"
            ],
            "text/html": [
              "\n",
              "  <div id=\"df-eef2f1bd-c9b0-4da0-83d5-15f16c75eb04\">\n",
              "    <div class=\"colab-df-container\">\n",
              "      <div>\n",
              "<style scoped>\n",
              "    .dataframe tbody tr th:only-of-type {\n",
              "        vertical-align: middle;\n",
              "    }\n",
              "\n",
              "    .dataframe tbody tr th {\n",
              "        vertical-align: top;\n",
              "    }\n",
              "\n",
              "    .dataframe thead th {\n",
              "        text-align: right;\n",
              "    }\n",
              "</style>\n",
              "<table border=\"1\" class=\"dataframe\">\n",
              "  <thead>\n",
              "    <tr style=\"text-align: right;\">\n",
              "      <th></th>\n",
              "      <th>tweet_text</th>\n",
              "      <th>type</th>\n",
              "    </tr>\n",
              "  </thead>\n",
              "  <tbody>\n",
              "    <tr>\n",
              "      <th>0</th>\n",
              "      <td>in words food crapilicious</td>\n",
              "      <td>none</td>\n",
              "    </tr>\n",
              "    <tr>\n",
              "      <th>1</th>\n",
              "      <td>why white</td>\n",
              "      <td>none</td>\n",
              "    </tr>\n",
              "    <tr>\n",
              "      <th>2</th>\n",
              "      <td>classy whore or red velvet cupcakes</td>\n",
              "      <td>none</td>\n",
              "    </tr>\n",
              "    <tr>\n",
              "      <th>3</th>\n",
              "      <td>meh thanks heads up concerned angry dude twitter</td>\n",
              "      <td>none</td>\n",
              "    </tr>\n",
              "    <tr>\n",
              "      <th>4</th>\n",
              "      <td>this isis account pretending kurdish account l...</td>\n",
              "      <td>none</td>\n",
              "    </tr>\n",
              "    <tr>\n",
              "      <th>5</th>\n",
              "      <td>yes test god good bad indifferent weird whatev...</td>\n",
              "      <td>none</td>\n",
              "    </tr>\n",
              "    <tr>\n",
              "      <th>6</th>\n",
              "      <td>itu sekolah ya bukan tempat bully ga jauh kaya...</td>\n",
              "      <td>none</td>\n",
              "    </tr>\n",
              "    <tr>\n",
              "      <th>7</th>\n",
              "      <td>karma i hope bites kat butt she nasty</td>\n",
              "      <td>none</td>\n",
              "    </tr>\n",
              "    <tr>\n",
              "      <th>8</th>\n",
              "      <td>priest</td>\n",
              "      <td>none</td>\n",
              "    </tr>\n",
              "    <tr>\n",
              "      <th>9</th>\n",
              "      <td>rebecca black drops out school due bullying</td>\n",
              "      <td>none</td>\n",
              "    </tr>\n",
              "    <tr>\n",
              "      <th>10</th>\n",
              "      <td></td>\n",
              "      <td>none</td>\n",
              "    </tr>\n",
              "    <tr>\n",
              "      <th>11</th>\n",
              "      <td>the bully flushes kd</td>\n",
              "      <td>none</td>\n",
              "    </tr>\n",
              "    <tr>\n",
              "      <th>12</th>\n",
              "      <td>ughhhh</td>\n",
              "      <td>none</td>\n",
              "    </tr>\n",
              "    <tr>\n",
              "      <th>13</th>\n",
              "      <td>turkish state killed children years</td>\n",
              "      <td>none</td>\n",
              "    </tr>\n",
              "    <tr>\n",
              "      <th>14</th>\n",
              "      <td>love best response hotcakes managed film non c...</td>\n",
              "      <td>none</td>\n",
              "    </tr>\n",
              "    <tr>\n",
              "      <th>15</th>\n",
              "      <td>parem de fazer bullying comigo uhahuah bando d...</td>\n",
              "      <td>none</td>\n",
              "    </tr>\n",
              "    <tr>\n",
              "      <th>16</th>\n",
              "      <td>tadinhu mim sofrendo bulling viu mimi</td>\n",
              "      <td>none</td>\n",
              "    </tr>\n",
              "    <tr>\n",
              "      <th>17</th>\n",
              "      <td>twitter basically angry letters generation</td>\n",
              "      <td>none</td>\n",
              "    </tr>\n",
              "    <tr>\n",
              "      <th>18</th>\n",
              "      <td>best pick line hi you re cute i love people ja...</td>\n",
              "      <td>none</td>\n",
              "    </tr>\n",
              "    <tr>\n",
              "      <th>19</th>\n",
              "      <td>now i gotta walk classss i officially hate stu...</td>\n",
              "      <td>none</td>\n",
              "    </tr>\n",
              "  </tbody>\n",
              "</table>\n",
              "</div>\n",
              "      <button class=\"colab-df-convert\" onclick=\"convertToInteractive('df-eef2f1bd-c9b0-4da0-83d5-15f16c75eb04')\"\n",
              "              title=\"Convert this dataframe to an interactive table.\"\n",
              "              style=\"display:none;\">\n",
              "        \n",
              "  <svg xmlns=\"http://www.w3.org/2000/svg\" height=\"24px\"viewBox=\"0 0 24 24\"\n",
              "       width=\"24px\">\n",
              "    <path d=\"M0 0h24v24H0V0z\" fill=\"none\"/>\n",
              "    <path d=\"M18.56 5.44l.94 2.06.94-2.06 2.06-.94-2.06-.94-.94-2.06-.94 2.06-2.06.94zm-11 1L8.5 8.5l.94-2.06 2.06-.94-2.06-.94L8.5 2.5l-.94 2.06-2.06.94zm10 10l.94 2.06.94-2.06 2.06-.94-2.06-.94-.94-2.06-.94 2.06-2.06.94z\"/><path d=\"M17.41 7.96l-1.37-1.37c-.4-.4-.92-.59-1.43-.59-.52 0-1.04.2-1.43.59L10.3 9.45l-7.72 7.72c-.78.78-.78 2.05 0 2.83L4 21.41c.39.39.9.59 1.41.59.51 0 1.02-.2 1.41-.59l7.78-7.78 2.81-2.81c.8-.78.8-2.07 0-2.86zM5.41 20L4 18.59l7.72-7.72 1.47 1.35L5.41 20z\"/>\n",
              "  </svg>\n",
              "      </button>\n",
              "      \n",
              "  <style>\n",
              "    .colab-df-container {\n",
              "      display:flex;\n",
              "      flex-wrap:wrap;\n",
              "      gap: 12px;\n",
              "    }\n",
              "\n",
              "    .colab-df-convert {\n",
              "      background-color: #E8F0FE;\n",
              "      border: none;\n",
              "      border-radius: 50%;\n",
              "      cursor: pointer;\n",
              "      display: none;\n",
              "      fill: #1967D2;\n",
              "      height: 32px;\n",
              "      padding: 0 0 0 0;\n",
              "      width: 32px;\n",
              "    }\n",
              "\n",
              "    .colab-df-convert:hover {\n",
              "      background-color: #E2EBFA;\n",
              "      box-shadow: 0px 1px 2px rgba(60, 64, 67, 0.3), 0px 1px 3px 1px rgba(60, 64, 67, 0.15);\n",
              "      fill: #174EA6;\n",
              "    }\n",
              "\n",
              "    [theme=dark] .colab-df-convert {\n",
              "      background-color: #3B4455;\n",
              "      fill: #D2E3FC;\n",
              "    }\n",
              "\n",
              "    [theme=dark] .colab-df-convert:hover {\n",
              "      background-color: #434B5C;\n",
              "      box-shadow: 0px 1px 3px 1px rgba(0, 0, 0, 0.15);\n",
              "      filter: drop-shadow(0px 1px 2px rgba(0, 0, 0, 0.3));\n",
              "      fill: #FFFFFF;\n",
              "    }\n",
              "  </style>\n",
              "\n",
              "      <script>\n",
              "        const buttonEl =\n",
              "          document.querySelector('#df-eef2f1bd-c9b0-4da0-83d5-15f16c75eb04 button.colab-df-convert');\n",
              "        buttonEl.style.display =\n",
              "          google.colab.kernel.accessAllowed ? 'block' : 'none';\n",
              "\n",
              "        async function convertToInteractive(key) {\n",
              "          const element = document.querySelector('#df-eef2f1bd-c9b0-4da0-83d5-15f16c75eb04');\n",
              "          const dataTable =\n",
              "            await google.colab.kernel.invokeFunction('convertToInteractive',\n",
              "                                                     [key], {});\n",
              "          if (!dataTable) return;\n",
              "\n",
              "          const docLinkHtml = 'Like what you see? Visit the ' +\n",
              "            '<a target=\"_blank\" href=https://colab.research.google.com/notebooks/data_table.ipynb>data table notebook</a>'\n",
              "            + ' to learn more about interactive tables.';\n",
              "          element.innerHTML = '';\n",
              "          dataTable['output_type'] = 'display_data';\n",
              "          await google.colab.output.renderOutput(dataTable, element);\n",
              "          const docLink = document.createElement('div');\n",
              "          docLink.innerHTML = docLinkHtml;\n",
              "          element.appendChild(docLink);\n",
              "        }\n",
              "      </script>\n",
              "    </div>\n",
              "  </div>\n",
              "  "
            ]
          },
          "metadata": {},
          "execution_count": 37
        }
      ],
      "source": [
        "rd.head(20)"
      ],
      "id": "c1aa178a-b933-482a-bde7-5bceee39f636"
    },
    {
      "cell_type": "code",
      "execution_count": null,
      "metadata": {
        "colab": {
          "base_uri": "https://localhost:8080/"
        },
        "id": "ca11cc7a-8d21-43e8-a7e8-38d7cce2c4fe",
        "outputId": "6c7988d2-c6a2-41a4-f4c1-bb1bffaec5f5"
      },
      "outputs": [
        {
          "output_type": "execute_result",
          "data": {
            "text/plain": [
              "1207"
            ]
          },
          "metadata": {},
          "execution_count": 38
        }
      ],
      "source": [
        "rd.duplicated(\"tweet_text\").sum()"
      ],
      "id": "ca11cc7a-8d21-43e8-a7e8-38d7cce2c4fe"
    },
    {
      "cell_type": "code",
      "execution_count": null,
      "metadata": {
        "id": "257e1999-6df1-49bb-903e-2b71d7c11231"
      },
      "outputs": [],
      "source": [
        "rd.drop_duplicates(\"tweet_text\", inplace=True)"
      ],
      "id": "257e1999-6df1-49bb-903e-2b71d7c11231"
    },
    {
      "cell_type": "code",
      "execution_count": null,
      "metadata": {
        "colab": {
          "base_uri": "https://localhost:8080/"
        },
        "id": "9f84941c-d570-4480-86f5-d440dee7a1af",
        "outputId": "45bec9b4-5991-42cf-801b-9eeb3a537ed7"
      },
      "outputs": [
        {
          "output_type": "execute_result",
          "data": {
            "text/plain": [
              "0"
            ]
          },
          "metadata": {},
          "execution_count": 40
        }
      ],
      "source": [
        "rd.duplicated(\"tweet_text\").sum()"
      ],
      "id": "9f84941c-d570-4480-86f5-d440dee7a1af"
    },
    {
      "cell_type": "code",
      "execution_count": null,
      "metadata": {
        "colab": {
          "base_uri": "https://localhost:8080/"
        },
        "id": "76fec68b-1b61-488a-aaf8-c807d955ca5f",
        "outputId": "fc8423ca-56fe-4b7a-8a00-3c45fadefe54"
      },
      "outputs": [
        {
          "output_type": "execute_result",
          "data": {
            "text/plain": [
              "(44797, 2)"
            ]
          },
          "metadata": {},
          "execution_count": 41
        }
      ],
      "source": [
        "rd.shape"
      ],
      "id": "76fec68b-1b61-488a-aaf8-c807d955ca5f"
    },
    {
      "cell_type": "code",
      "execution_count": null,
      "metadata": {
        "colab": {
          "base_uri": "https://localhost:8080/"
        },
        "id": "e931e286-5381-4fce-a02e-8d9945133ae5",
        "outputId": "8d2b54bd-6a35-4fd3-a80d-24cd8be60028"
      },
      "outputs": [
        {
          "output_type": "execute_result",
          "data": {
            "text/plain": [
              "religion    7950\n",
              "age         7918\n",
              "racism      7794\n",
              "none        7676\n",
              "sexism      7596\n",
              "other       5863\n",
              "Name: type, dtype: int64"
            ]
          },
          "metadata": {},
          "execution_count": 42
        }
      ],
      "source": [
        "rd.type.value_counts()"
      ],
      "id": "e931e286-5381-4fce-a02e-8d9945133ae5"
    },
    {
      "cell_type": "markdown",
      "metadata": {
        "id": "3a31dcd5-c3e0-478e-846c-a74df38efcb2"
      },
      "source": [
        "#### Removing the category of 'other' in the 'type' attribute"
      ],
      "id": "3a31dcd5-c3e0-478e-846c-a74df38efcb2"
    },
    {
      "cell_type": "code",
      "execution_count": null,
      "metadata": {
        "id": "66fc3ffe-8397-465b-9693-abcb35a75ce9"
      },
      "outputs": [],
      "source": [
        "rd=rd[rd[\"type\"]!=\"other\"]"
      ],
      "id": "66fc3ffe-8397-465b-9693-abcb35a75ce9"
    },
    {
      "cell_type": "code",
      "execution_count": null,
      "metadata": {
        "colab": {
          "base_uri": "https://localhost:8080/"
        },
        "id": "e705dc87-b0d0-46d7-8d43-8652412a3b33",
        "outputId": "2821efaf-6843-441c-b8f7-849951cff0bb"
      },
      "outputs": [
        {
          "output_type": "execute_result",
          "data": {
            "text/plain": [
              "religion    7950\n",
              "age         7918\n",
              "racism      7794\n",
              "none        7676\n",
              "sexism      7596\n",
              "Name: type, dtype: int64"
            ]
          },
          "metadata": {},
          "execution_count": 44
        }
      ],
      "source": [
        "rd.type.value_counts()"
      ],
      "id": "e705dc87-b0d0-46d7-8d43-8652412a3b33"
    },
    {
      "cell_type": "code",
      "execution_count": null,
      "metadata": {
        "colab": {
          "base_uri": "https://localhost:8080/"
        },
        "id": "5e7212d3-2c63-437f-a3c3-382b9f3348d7",
        "outputId": "d44992fe-e72b-4196-caae-da9b33fc2621"
      },
      "outputs": [
        {
          "output_type": "execute_result",
          "data": {
            "text/plain": [
              "(38934, 2)"
            ]
          },
          "metadata": {},
          "execution_count": 45
        }
      ],
      "source": [
        "rd.shape"
      ],
      "id": "5e7212d3-2c63-437f-a3c3-382b9f3348d7"
    },
    {
      "cell_type": "code",
      "execution_count": null,
      "metadata": {
        "id": "J8chhn70k-nN"
      },
      "outputs": [],
      "source": [],
      "id": "J8chhn70k-nN"
    },
    {
      "cell_type": "markdown",
      "metadata": {
        "id": "a5ed365a-69a5-423b-bb37-26e41e1dc2f4"
      },
      "source": [
        "## .\n",
        "## .\n",
        "## .\n",
        "## ."
      ],
      "id": "a5ed365a-69a5-423b-bb37-26e41e1dc2f4"
    },
    {
      "cell_type": "markdown",
      "metadata": {
        "id": "dd4853ad-80f2-41bc-9ea1-a62d829a8e9d"
      },
      "source": [
        "#### Making a separate column in the dataframe, indicating the number of words in each tweet"
      ],
      "id": "dd4853ad-80f2-41bc-9ea1-a62d829a8e9d"
    },
    {
      "cell_type": "code",
      "execution_count": null,
      "metadata": {
        "id": "adea2081-e94d-4e21-8231-38b4eeb17b42"
      },
      "outputs": [],
      "source": [
        "text_len=[]\n",
        "\n",
        "for text in rd.tweet_text:\n",
        "    tweet_len=len(text.split())\n",
        "    text_len.append(tweet_len)"
      ],
      "id": "adea2081-e94d-4e21-8231-38b4eeb17b42"
    },
    {
      "cell_type": "code",
      "execution_count": null,
      "metadata": {
        "colab": {
          "base_uri": "https://localhost:8080/"
        },
        "id": "6f1247ce-6949-4461-9c4d-0489d90d7464",
        "outputId": "8fc4a6ab-c7cf-4a66-92ab-e5ac890655f9"
      },
      "outputs": [
        {
          "output_type": "stream",
          "name": "stderr",
          "text": [
            "<ipython-input-47-d3460e6aaabb>:1: SettingWithCopyWarning: \n",
            "A value is trying to be set on a copy of a slice from a DataFrame.\n",
            "Try using .loc[row_indexer,col_indexer] = value instead\n",
            "\n",
            "See the caveats in the documentation: https://pandas.pydata.org/pandas-docs/stable/user_guide/indexing.html#returning-a-view-versus-a-copy\n",
            "  rd['text_len']=text_len\n"
          ]
        }
      ],
      "source": [
        "rd['text_len']=text_len"
      ],
      "id": "6f1247ce-6949-4461-9c4d-0489d90d7464"
    },
    {
      "cell_type": "code",
      "execution_count": null,
      "metadata": {
        "colab": {
          "base_uri": "https://localhost:8080/"
        },
        "id": "0838852f-c119-44db-80bd-9dc1d29b501f",
        "outputId": "dc936c1e-d192-438f-9240-df0168c46f21"
      },
      "outputs": [
        {
          "output_type": "stream",
          "name": "stderr",
          "text": [
            "<ipython-input-48-5e4d1c7f830c>:1: SettingWithCopyWarning: \n",
            "A value is trying to be set on a copy of a slice from a DataFrame.\n",
            "Try using .loc[row_indexer,col_indexer] = value instead\n",
            "\n",
            "See the caveats in the documentation: https://pandas.pydata.org/pandas-docs/stable/user_guide/indexing.html#returning-a-view-versus-a-copy\n",
            "  rd['text_len'] = rd['text_len'].astype('float')\n"
          ]
        }
      ],
      "source": [
        "rd['text_len'] = rd['text_len'].astype('float')"
      ],
      "id": "0838852f-c119-44db-80bd-9dc1d29b501f"
    },
    {
      "cell_type": "code",
      "execution_count": null,
      "metadata": {
        "colab": {
          "base_uri": "https://localhost:8080/",
          "height": 363
        },
        "id": "f18b9b60-621a-4fa6-852b-a5bc6d995346",
        "outputId": "705b9224-583f-49c8-ffd6-82e9a9917101"
      },
      "outputs": [
        {
          "output_type": "execute_result",
          "data": {
            "text/plain": [
              "                                          tweet_text  type  text_len\n",
              "0                        in words food crapilicious   none       4.0\n",
              "1                                         why white   none       2.0\n",
              "2               classy whore or red velvet cupcakes   none       6.0\n",
              "3  meh thanks heads up concerned angry dude twitter   none       8.0\n",
              "4  this isis account pretending kurdish account l...  none       9.0\n",
              "5  yes test god good bad indifferent weird whatev...  none      11.0\n",
              "6  itu sekolah ya bukan tempat bully ga jauh kaya...  none      10.0\n",
              "7             karma i hope bites kat butt she nasty   none       8.0\n",
              "8                                             priest  none       1.0\n",
              "9       rebecca black drops out school due bullying   none       7.0"
            ],
            "text/html": [
              "\n",
              "  <div id=\"df-10a5b854-6531-4bc3-8612-bc30f376742d\">\n",
              "    <div class=\"colab-df-container\">\n",
              "      <div>\n",
              "<style scoped>\n",
              "    .dataframe tbody tr th:only-of-type {\n",
              "        vertical-align: middle;\n",
              "    }\n",
              "\n",
              "    .dataframe tbody tr th {\n",
              "        vertical-align: top;\n",
              "    }\n",
              "\n",
              "    .dataframe thead th {\n",
              "        text-align: right;\n",
              "    }\n",
              "</style>\n",
              "<table border=\"1\" class=\"dataframe\">\n",
              "  <thead>\n",
              "    <tr style=\"text-align: right;\">\n",
              "      <th></th>\n",
              "      <th>tweet_text</th>\n",
              "      <th>type</th>\n",
              "      <th>text_len</th>\n",
              "    </tr>\n",
              "  </thead>\n",
              "  <tbody>\n",
              "    <tr>\n",
              "      <th>0</th>\n",
              "      <td>in words food crapilicious</td>\n",
              "      <td>none</td>\n",
              "      <td>4.0</td>\n",
              "    </tr>\n",
              "    <tr>\n",
              "      <th>1</th>\n",
              "      <td>why white</td>\n",
              "      <td>none</td>\n",
              "      <td>2.0</td>\n",
              "    </tr>\n",
              "    <tr>\n",
              "      <th>2</th>\n",
              "      <td>classy whore or red velvet cupcakes</td>\n",
              "      <td>none</td>\n",
              "      <td>6.0</td>\n",
              "    </tr>\n",
              "    <tr>\n",
              "      <th>3</th>\n",
              "      <td>meh thanks heads up concerned angry dude twitter</td>\n",
              "      <td>none</td>\n",
              "      <td>8.0</td>\n",
              "    </tr>\n",
              "    <tr>\n",
              "      <th>4</th>\n",
              "      <td>this isis account pretending kurdish account l...</td>\n",
              "      <td>none</td>\n",
              "      <td>9.0</td>\n",
              "    </tr>\n",
              "    <tr>\n",
              "      <th>5</th>\n",
              "      <td>yes test god good bad indifferent weird whatev...</td>\n",
              "      <td>none</td>\n",
              "      <td>11.0</td>\n",
              "    </tr>\n",
              "    <tr>\n",
              "      <th>6</th>\n",
              "      <td>itu sekolah ya bukan tempat bully ga jauh kaya...</td>\n",
              "      <td>none</td>\n",
              "      <td>10.0</td>\n",
              "    </tr>\n",
              "    <tr>\n",
              "      <th>7</th>\n",
              "      <td>karma i hope bites kat butt she nasty</td>\n",
              "      <td>none</td>\n",
              "      <td>8.0</td>\n",
              "    </tr>\n",
              "    <tr>\n",
              "      <th>8</th>\n",
              "      <td>priest</td>\n",
              "      <td>none</td>\n",
              "      <td>1.0</td>\n",
              "    </tr>\n",
              "    <tr>\n",
              "      <th>9</th>\n",
              "      <td>rebecca black drops out school due bullying</td>\n",
              "      <td>none</td>\n",
              "      <td>7.0</td>\n",
              "    </tr>\n",
              "  </tbody>\n",
              "</table>\n",
              "</div>\n",
              "      <button class=\"colab-df-convert\" onclick=\"convertToInteractive('df-10a5b854-6531-4bc3-8612-bc30f376742d')\"\n",
              "              title=\"Convert this dataframe to an interactive table.\"\n",
              "              style=\"display:none;\">\n",
              "        \n",
              "  <svg xmlns=\"http://www.w3.org/2000/svg\" height=\"24px\"viewBox=\"0 0 24 24\"\n",
              "       width=\"24px\">\n",
              "    <path d=\"M0 0h24v24H0V0z\" fill=\"none\"/>\n",
              "    <path d=\"M18.56 5.44l.94 2.06.94-2.06 2.06-.94-2.06-.94-.94-2.06-.94 2.06-2.06.94zm-11 1L8.5 8.5l.94-2.06 2.06-.94-2.06-.94L8.5 2.5l-.94 2.06-2.06.94zm10 10l.94 2.06.94-2.06 2.06-.94-2.06-.94-.94-2.06-.94 2.06-2.06.94z\"/><path d=\"M17.41 7.96l-1.37-1.37c-.4-.4-.92-.59-1.43-.59-.52 0-1.04.2-1.43.59L10.3 9.45l-7.72 7.72c-.78.78-.78 2.05 0 2.83L4 21.41c.39.39.9.59 1.41.59.51 0 1.02-.2 1.41-.59l7.78-7.78 2.81-2.81c.8-.78.8-2.07 0-2.86zM5.41 20L4 18.59l7.72-7.72 1.47 1.35L5.41 20z\"/>\n",
              "  </svg>\n",
              "      </button>\n",
              "      \n",
              "  <style>\n",
              "    .colab-df-container {\n",
              "      display:flex;\n",
              "      flex-wrap:wrap;\n",
              "      gap: 12px;\n",
              "    }\n",
              "\n",
              "    .colab-df-convert {\n",
              "      background-color: #E8F0FE;\n",
              "      border: none;\n",
              "      border-radius: 50%;\n",
              "      cursor: pointer;\n",
              "      display: none;\n",
              "      fill: #1967D2;\n",
              "      height: 32px;\n",
              "      padding: 0 0 0 0;\n",
              "      width: 32px;\n",
              "    }\n",
              "\n",
              "    .colab-df-convert:hover {\n",
              "      background-color: #E2EBFA;\n",
              "      box-shadow: 0px 1px 2px rgba(60, 64, 67, 0.3), 0px 1px 3px 1px rgba(60, 64, 67, 0.15);\n",
              "      fill: #174EA6;\n",
              "    }\n",
              "\n",
              "    [theme=dark] .colab-df-convert {\n",
              "      background-color: #3B4455;\n",
              "      fill: #D2E3FC;\n",
              "    }\n",
              "\n",
              "    [theme=dark] .colab-df-convert:hover {\n",
              "      background-color: #434B5C;\n",
              "      box-shadow: 0px 1px 3px 1px rgba(0, 0, 0, 0.15);\n",
              "      filter: drop-shadow(0px 1px 2px rgba(0, 0, 0, 0.3));\n",
              "      fill: #FFFFFF;\n",
              "    }\n",
              "  </style>\n",
              "\n",
              "      <script>\n",
              "        const buttonEl =\n",
              "          document.querySelector('#df-10a5b854-6531-4bc3-8612-bc30f376742d button.colab-df-convert');\n",
              "        buttonEl.style.display =\n",
              "          google.colab.kernel.accessAllowed ? 'block' : 'none';\n",
              "\n",
              "        async function convertToInteractive(key) {\n",
              "          const element = document.querySelector('#df-10a5b854-6531-4bc3-8612-bc30f376742d');\n",
              "          const dataTable =\n",
              "            await google.colab.kernel.invokeFunction('convertToInteractive',\n",
              "                                                     [key], {});\n",
              "          if (!dataTable) return;\n",
              "\n",
              "          const docLinkHtml = 'Like what you see? Visit the ' +\n",
              "            '<a target=\"_blank\" href=https://colab.research.google.com/notebooks/data_table.ipynb>data table notebook</a>'\n",
              "            + ' to learn more about interactive tables.';\n",
              "          element.innerHTML = '';\n",
              "          dataTable['output_type'] = 'display_data';\n",
              "          await google.colab.output.renderOutput(dataTable, element);\n",
              "          const docLink = document.createElement('div');\n",
              "          docLink.innerHTML = docLinkHtml;\n",
              "          element.appendChild(docLink);\n",
              "        }\n",
              "      </script>\n",
              "    </div>\n",
              "  </div>\n",
              "  "
            ]
          },
          "metadata": {},
          "execution_count": 49
        }
      ],
      "source": [
        "rd.head(10)"
      ],
      "id": "f18b9b60-621a-4fa6-852b-a5bc6d995346"
    },
    {
      "cell_type": "code",
      "execution_count": null,
      "metadata": {
        "colab": {
          "base_uri": "https://localhost:8080/"
        },
        "id": "d61c10a7-2535-4a06-aebd-3e4c69c5e43b",
        "outputId": "9a17b0cb-1dc3-4ddf-8282-e6a1853f717d"
      },
      "outputs": [
        {
          "output_type": "stream",
          "name": "stdout",
          "text": [
            "<class 'pandas.core.frame.DataFrame'>\n",
            "Int64Index: 38934 entries, 0 to 47691\n",
            "Data columns (total 3 columns):\n",
            " #   Column      Non-Null Count  Dtype  \n",
            "---  ------      --------------  -----  \n",
            " 0   tweet_text  38934 non-null  object \n",
            " 1   type        38934 non-null  object \n",
            " 2   text_len    38934 non-null  float64\n",
            "dtypes: float64(1), object(2)\n",
            "memory usage: 1.2+ MB\n"
          ]
        }
      ],
      "source": [
        "rd.info()"
      ],
      "id": "d61c10a7-2535-4a06-aebd-3e4c69c5e43b"
    },
    {
      "cell_type": "code",
      "execution_count": null,
      "metadata": {
        "id": "153b721f-c456-4aa2-be4b-fd9b0ef4eb81"
      },
      "outputs": [],
      "source": [
        "#rd.to_csv(\"EDA_1.csv\")"
      ],
      "id": "153b721f-c456-4aa2-be4b-fd9b0ef4eb81"
    },
    {
      "cell_type": "code",
      "execution_count": null,
      "metadata": {
        "id": "04afd32e-d945-46a4-a312-5eddddb4f7c4"
      },
      "outputs": [],
      "source": [
        "x=rd['text_len'].values"
      ],
      "id": "04afd32e-d945-46a4-a312-5eddddb4f7c4"
    },
    {
      "cell_type": "code",
      "execution_count": null,
      "metadata": {
        "colab": {
          "base_uri": "https://localhost:8080/",
          "height": 834
        },
        "id": "4862275b-20e9-4ed4-880c-2c49415ce16c",
        "outputId": "8ff16a9f-5000-4d4a-81ab-a37a367a98c7"
      },
      "outputs": [
        {
          "output_type": "stream",
          "name": "stderr",
          "text": [
            "<ipython-input-53-eed8c7dc51b6>:2: UserWarning: \n",
            "\n",
            "`distplot` is a deprecated function and will be removed in seaborn v0.14.0.\n",
            "\n",
            "Please adapt your code to use either `displot` (a figure-level function with\n",
            "similar flexibility) or `histplot` (an axes-level function for histograms).\n",
            "\n",
            "For a guide to updating your code to use the new functions, please see\n",
            "https://gist.github.com/mwaskom/de44147ed2974457ad6372750bbe5751\n",
            "\n",
            "  sns.distplot(x)\n"
          ]
        },
        {
          "output_type": "display_data",
          "data": {
            "text/plain": [
              "<Figure size 2160x864 with 1 Axes>"
            ],
            "image/png": "[encoded data removed]"
          },
          "metadata": {
            "needs_background": "light"
          }
        }
      ],
      "source": [
        "plt.figure(figsize=(30,12))\n",
        "sns.distplot(x)\n",
        "\n",
        "plt.title('Density of number of words in Tweets', fontdict={'fontweight':'bold', 'fontsize':20})\n",
        "plt.xlabel('Number of words', fontdict={'fontsize':20})\n",
        "plt.ylabel('Frequency', fontdict={'fontsize':20})\n",
        "plt.show()"
      ],
      "id": "4862275b-20e9-4ed4-880c-2c49415ce16c"
    },
    {
      "cell_type": "code",
      "execution_count": null,
      "metadata": {
        "colab": {
          "base_uri": "https://localhost:8080/",
          "height": 324
        },
        "id": "VISrEwYfp3bV",
        "outputId": "53d8e8f2-3ff8-423b-c106-255c855e1155"
      },
      "outputs": [
        {
          "output_type": "execute_result",
          "data": {
            "text/plain": [
              "<Axes: xlabel='type'>"
            ]
          },
          "metadata": {},
          "execution_count": 54
        },
        {
          "output_type": "display_data",
          "data": {
            "text/plain": [
              "<Figure size 432x288 with 1 Axes>"
            ],
            "image/png": "[encoded data removed]"
          },
          "metadata": {
            "needs_background": "light"
          }
        }
      ],
      "source": [
        "rd.groupby(['type']).size().plot.bar()"
      ],
      "id": "VISrEwYfp3bV"
    },
    {
      "cell_type": "markdown",
      "metadata": {
        "id": "8d2bc990-f23a-4b40-89a6-f2609ff063b3"
      },
      "source": [
        "### Word Cloud"
      ],
      "id": "8d2bc990-f23a-4b40-89a6-f2609ff063b3"
    },
    {
      "cell_type": "code",
      "execution_count": null,
      "metadata": {
        "colab": {
          "base_uri": "https://localhost:8080/",
          "height": 1000
        },
        "id": "c7c7476a-43fe-4bfc-8bdc-13b590bb7b8e",
        "outputId": "cd5ecd8d-09ff-4977-c6b9-716fd211cf62"
      },
      "outputs": [
        {
          "output_type": "stream",
          "name": "stdout",
          "text": [
            "Sexism\n"
          ]
        },
        {
          "output_type": "display_data",
          "data": {
            "text/plain": [
              "<Figure size 432x288 with 1 Axes>"
            ],
            "image/png": "[encoded data removed]"
          },
          "metadata": {
            "needs_background": "light"
          }
        },
        {
          "output_type": "stream",
          "name": "stdout",
          "text": [
            "Racism\n"
          ]
        },
        {
          "output_type": "display_data",
          "data": {
            "text/plain": [
              "<Figure size 432x288 with 1 Axes>"
            ],
            "image/png": "[encoded data removed]"
          },
          "metadata": {
            "needs_background": "light"
          }
        },
        {
          "output_type": "stream",
          "name": "stdout",
          "text": [
            "Age\n"
          ]
        },
        {
          "output_type": "display_data",
          "data": {
            "text/plain": [
              "<Figure size 432x288 with 1 Axes>"
            ],
            "image/png": "[encoded data removed]"
          },
          "metadata": {
            "needs_background": "light"
          }
        },
        {
          "output_type": "stream",
          "name": "stdout",
          "text": [
            "Religion\n"
          ]
        },
        {
          "output_type": "display_data",
          "data": {
            "text/plain": [
              "<Figure size 432x288 with 1 Axes>"
            ],
            "image/png": "[encoded data removed]"
          },
          "metadata": {
            "needs_background": "light"
          }
        },
        {
          "output_type": "stream",
          "name": "stdout",
          "text": [
            "None\n"
          ]
        },
        {
          "output_type": "display_data",
          "data": {
            "text/plain": [
              "<Figure size 432x288 with 1 Axes>"
            ],
            "image/png": "[encoded data removed]"
          },
          "metadata": {
            "needs_background": "light"
          }
        }
      ],
      "source": [
        "print(\"Sexism\")\n",
        "text = \" \".join(review for review in rd[rd.type=='sexism'].tweet_text.astype(str))\n",
        "wordcloud = WordCloud(stopwords=STOPWORDS).generate(text)\n",
        "plt.imshow(wordcloud)\n",
        "plt.axis(\"off\")\n",
        "plt.show()\n",
        "\n",
        "print(\"Racism\")\n",
        "text = \" \".join(review for review in rd[rd.type=='racism'].tweet_text.astype(str))\n",
        "wordcloud = WordCloud(stopwords=STOPWORDS).generate(text)\n",
        "plt.imshow(wordcloud)\n",
        "plt.axis(\"off\")\n",
        "plt.show()\n",
        "\n",
        "print(\"Age\")\n",
        "text = \" \".join(review for review in rd[rd.type=='age'].tweet_text.astype(str))\n",
        "wordcloud = WordCloud(stopwords=STOPWORDS).generate(text)\n",
        "plt.imshow(wordcloud)\n",
        "plt.axis(\"off\")\n",
        "plt.show()\n",
        "\n",
        "print(\"Religion\")\n",
        "text = \" \".join(review for review in rd[rd.type=='religion'].tweet_text.astype(str))\n",
        "wordcloud = WordCloud(stopwords=STOPWORDS).generate(text)\n",
        "plt.imshow(wordcloud)\n",
        "plt.axis(\"off\")\n",
        "plt.show()\n",
        "\n",
        "print(\"None\")\n",
        "text = \" \".join(review for review in rd[rd.type=='none'].tweet_text.astype(str))\n",
        "wordcloud = WordCloud(stopwords=STOPWORDS).generate(text)\n",
        "plt.imshow(wordcloud)\n",
        "plt.axis(\"off\")\n",
        "plt.show()"
      ],
      "id": "c7c7476a-43fe-4bfc-8bdc-13b590bb7b8e"
    },
    {
      "cell_type": "markdown",
      "metadata": {
        "id": "dec9796d-fddf-4861-af44-4aac633f16cd"
      },
      "source": [
        "### WordCount"
      ],
      "id": "dec9796d-fddf-4861-af44-4aac633f16cd"
    },
    {
      "cell_type": "code",
      "execution_count": null,
      "metadata": {
        "id": "723392c3-fc0c-486a-b97c-44ec2cf631e4"
      },
      "outputs": [],
      "source": [],
      "id": "723392c3-fc0c-486a-b97c-44ec2cf631e4"
    },
    {
      "cell_type": "code",
      "execution_count": null,
      "metadata": {
        "id": "77972d34-e76b-485d-8aca-d7ac7b03d630"
      },
      "outputs": [],
      "source": [
        "word_freq=Counter(\" \".join(rd[\"tweet_text\"]).split()).most_common(30)"
      ],
      "id": "77972d34-e76b-485d-8aca-d7ac7b03d630"
    },
    {
      "cell_type": "code",
      "execution_count": null,
      "metadata": {
        "colab": {
          "base_uri": "https://localhost:8080/"
        },
        "id": "e31ddf20-2ef1-4f21-92da-534b3f7ff3f2",
        "outputId": "f60453da-8606-4132-e8b3-8a2dc444adaa"
      },
      "outputs": [
        {
          "output_type": "execute_result",
          "data": {
            "text/plain": [
              "[('i', 17368),\n",
              " ('school', 8712),\n",
              " ('t', 6096),\n",
              " ('s', 5992),\n",
              " ('fuck', 5597),\n",
              " ('like', 5410),\n",
              " ('you', 5324),\n",
              " ('dumb', 5216),\n",
              " ('high', 5171),\n",
              " ('bullied', 4461),\n",
              " ('people', 4408),\n",
              " ('nigger', 4284),\n",
              " ('rape', 4225),\n",
              " ('u', 4148),\n",
              " ('it', 4093),\n",
              " ('gay', 3967),\n",
              " ('jokes', 3447),\n",
              " ('the', 3144),\n",
              " ('bully', 3131),\n",
              " ('girls', 2778),\n",
              " ('black', 2720),\n",
              " ('girl', 2710),\n",
              " ('amp', 2610),\n",
              " ('ass', 2596),\n",
              " ('muslims', 2478),\n",
              " ('muslim', 2452),\n",
              " ('don', 2334),\n",
              " ('m', 2210),\n",
              " ('white', 2159),\n",
              " ('know', 2071)]"
            ]
          },
          "metadata": {},
          "execution_count": 57
        }
      ],
      "source": [
        "word_freq"
      ],
      "id": "e31ddf20-2ef1-4f21-92da-534b3f7ff3f2"
    },
    {
      "cell_type": "markdown",
      "metadata": {
        "id": "12e96519-89fe-46d7-b895-5100f6ae59ca"
      },
      "source": [
        "### 8. Removal of tweets less than 10 words"
      ],
      "id": "12e96519-89fe-46d7-b895-5100f6ae59ca"
    },
    {
      "cell_type": "code",
      "execution_count": null,
      "metadata": {
        "colab": {
          "base_uri": "https://localhost:8080/",
          "height": 518
        },
        "id": "9a03d5a5-0783-416d-8352-9a3434097c3a",
        "outputId": "39974c58-0d08-4e8c-9e99-64c56ce0a93f"
      },
      "outputs": [
        {
          "output_type": "display_data",
          "data": {
            "text/plain": [
              "<Figure size 1080x576 with 1 Axes>"
            ],
            "image/png": "[encoded data removed]"
          },
          "metadata": {
            "needs_background": "light"
          }
        }
      ],
      "source": [
        "plt.figure(figsize=(15,8))\n",
        "ax1=sns.countplot(x='text_len', data= rd[rd['text_len']<10], palette='Blues_r')\n",
        "for i in ax1.containers:\n",
        "    ax1.bar_label(i,)\n",
        "plt.title('Count of tweets with less than 10 words', fontsize=20)\n",
        "plt.yticks([])\n",
        "plt.ylabel('Count')\n",
        "plt.xlabel('Number of words')\n",
        "plt.show()"
      ],
      "id": "9a03d5a5-0783-416d-8352-9a3434097c3a"
    },
    {
      "cell_type": "code",
      "execution_count": null,
      "metadata": {
        "id": "6866e3d8-c2c5-42f7-a7f7-2b13baf719c0"
      },
      "outputs": [],
      "source": [
        "rd=rd[rd['text_len']>3]"
      ],
      "id": "6866e3d8-c2c5-42f7-a7f7-2b13baf719c0"
    },
    {
      "cell_type": "code",
      "execution_count": null,
      "metadata": {
        "colab": {
          "base_uri": "https://localhost:8080/",
          "height": 518
        },
        "id": "f29df861-4b5d-4847-af73-578f9a93786c",
        "outputId": "7b6ce538-4f21-4e0b-c78a-8510c3c65595"
      },
      "outputs": [
        {
          "output_type": "display_data",
          "data": {
            "text/plain": [
              "<Figure size 1080x576 with 1 Axes>"
            ],
            "image/png": "[encoded data removed]"
          },
          "metadata": {
            "needs_background": "light"
          }
        }
      ],
      "source": [
        "plt.figure(figsize=(15,8))\n",
        "ax1=sns.countplot(x='text_len', data= rd[rd['text_len']<10], palette='Blues_r')\n",
        "for i in ax1.containers:\n",
        "    ax1.bar_label(i,)\n",
        "plt.title('Count of tweets with less than 10 words', fontsize=20)\n",
        "plt.yticks([])\n",
        "plt.ylabel('Count')\n",
        "plt.xlabel('Number of words')\n",
        "plt.show()"
      ],
      "id": "f29df861-4b5d-4847-af73-578f9a93786c"
    },
    {
      "cell_type": "markdown",
      "metadata": {
        "id": "7df222e9-3077-4df9-9a98-6d42c982a460"
      },
      "source": [
        "### 9. Removal of tweets more than 100 words"
      ],
      "id": "7df222e9-3077-4df9-9a98-6d42c982a460"
    },
    {
      "cell_type": "markdown",
      "metadata": {
        "id": "hpHyT6Pjfpcl"
      },
      "source": [],
      "id": "hpHyT6Pjfpcl"
    },
    {
      "cell_type": "code",
      "execution_count": null,
      "metadata": {
        "colab": {
          "base_uri": "https://localhost:8080/",
          "height": 517
        },
        "id": "80adaed4-c221-45fa-8217-31f4936efdcc",
        "outputId": "693c3531-2112-471a-8f10-d4dfd8a63bcd"
      },
      "outputs": [
        {
          "output_type": "display_data",
          "data": {
            "text/plain": [
              "<Figure size 1080x576 with 1 Axes>"
            ],
            "image/png": "[encoded data removed]"
          },
          "metadata": {
            "needs_background": "light"
          }
        }
      ],
      "source": [
        "plt.figure(figsize=(15,8))\n",
        "ax1=sns.countplot(x=rd['text_len'].astype(int), data=rd[(rd['text_len']<=1000) & (rd['text_len']>10)], palette='rocket')\n",
        "for i in ax1.containers:\n",
        "    ax1.bar_label(i,)\n",
        "plt.title('Count of tweets with more than words', fontsize=20)\n",
        "plt.yticks(fontsize=10)\n",
        "plt.xticks(fontsize=8)\n",
        "plt.ylabel('Count')\n",
        "plt.xlabel('Number of words')\n",
        "plt.show()"
      ],
      "id": "80adaed4-c221-45fa-8217-31f4936efdcc"
    },
    {
      "cell_type": "code",
      "execution_count": null,
      "metadata": {
        "id": "sHe8eMxKGlWb"
      },
      "outputs": [],
      "source": [
        "rd=rd[rd['text_len']<100]"
      ],
      "id": "sHe8eMxKGlWb"
    },
    {
      "cell_type": "code",
      "execution_count": null,
      "metadata": {
        "id": "Q1h7He9tGyX-"
      },
      "outputs": [],
      "source": [
        "rd=rd.drop(['text_len'], axis=1)"
      ],
      "id": "Q1h7He9tGyX-"
    },
    {
      "cell_type": "markdown",
      "metadata": {
        "id": "84cbaa49-e248-4904-8654-44cb65926a8a"
      },
      "source": [
        "### Saving the Dataset"
      ],
      "id": "84cbaa49-e248-4904-8654-44cb65926a8a"
    },
    {
      "cell_type": "code",
      "execution_count": null,
      "metadata": {
        "id": "5130d502-77aa-44cb-bb22-aed662e9d867"
      },
      "outputs": [],
      "source": [
        "rd.to_csv(\"EDA_PP_F.csv\")"
      ],
      "id": "5130d502-77aa-44cb-bb22-aed662e9d867"
    },
    {
      "cell_type": "markdown",
      "metadata": {
        "id": "532e4a5d-a686-470c-9ffe-d277c24cba68"
      },
      "source": [
        "# Baseline models training\n",
        "\n",
        "\n"
      ],
      "id": "532e4a5d-a686-470c-9ffe-d277c24cba68"
    },
    {
      "cell_type": "markdown",
      "metadata": {
        "id": "dfqD8POnfsK6"
      },
      "source": [
        "# BERT Finetuning\n",
        "\n",
        "BERT is a pretrained NLP model developed by google for sentiment analysis. We need to finetune BERT for it to work on our dataset."
      ],
      "id": "dfqD8POnfsK6"
    },
    {
      "cell_type": "code",
      "execution_count": null,
      "metadata": {
        "id": "DK3yDNPKg8gB"
      },
      "outputs": [],
      "source": [
        "# data_train, data_test = train_test_split(rd, test_size = 0.3, random_state = 42, shuffle = True, stratify = rd.type)\n"
      ],
      "id": "DK3yDNPKg8gB"
    },
    {
      "cell_type": "code",
      "execution_count": null,
      "metadata": {
        "id": "SjRdPlQAwxu-"
      },
      "outputs": [],
      "source": [
        "# data_train  = data_train[:12000]\n",
        "# data_train.shape"
      ],
      "id": "SjRdPlQAwxu-"
    },
    {
      "cell_type": "code",
      "execution_count": null,
      "metadata": {
        "id": "SXEq9MnkxEFN"
      },
      "outputs": [],
      "source": [
        "# data_test = data_test[:500]\n",
        "# data_test.shape"
      ],
      "id": "SXEq9MnkxEFN"
    },
    {
      "cell_type": "code",
      "execution_count": null,
      "metadata": {
        "id": "yCz_85CtxJa2"
      },
      "outputs": [],
      "source": [
        "# label_enc = LabelEncoder()"
      ],
      "id": "yCz_85CtxJa2"
    },
    {
      "cell_type": "code",
      "execution_count": null,
      "metadata": {
        "id": "-94n7c-mxO7G"
      },
      "outputs": [],
      "source": [
        "# data_train['type'] = label_enc.fit_transform(data_train['type'])\n",
        "# data_train.head()"
      ],
      "id": "-94n7c-mxO7G"
    },
    {
      "cell_type": "code",
      "execution_count": null,
      "metadata": {
        "id": "B2MVe-t7xT5V"
      },
      "outputs": [],
      "source": [
        "# data_test['type'] = label_enc.transform(data_test['type'])"
      ],
      "id": "B2MVe-t7xT5V"
    },
    {
      "cell_type": "code",
      "execution_count": null,
      "metadata": {
        "id": "VHhQwdjbYgcD"
      },
      "outputs": [],
      "source": [
        "# !pip install transformers"
      ],
      "id": "VHhQwdjbYgcD"
    },
    {
      "cell_type": "code",
      "execution_count": null,
      "metadata": {
        "id": "bu4obYhp91tE"
      },
      "outputs": [],
      "source": [],
      "id": "bu4obYhp91tE"
    }
  ],
  "metadata": {
    "colab": {
      "provenance": []
    },
    "kernelspec": {
      "display_name": "Python 3",
      "language": "python",
      "name": "python3"
    },
    "language_info": {
      "codemirror_mode": {
        "name": "ipython",
        "version": 3
      },
      "file_extension": ".py",
      "mimetype": "text/x-python",
      "name": "python",
      "nbconvert_exporter": "python",
      "pygments_lexer": "ipython3",
      "version": "3.8.8"
    }
  },
  "nbformat": 4,
  "nbformat_minor": 5
}